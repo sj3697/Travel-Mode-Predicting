{
  "cells": [
    {
      "cell_type": "markdown",
      "metadata": {
        "id": "Szn9BC8iFa7X"
      },
      "source": [
        "# Machine Learning for Cities group project: Understanding the impact of spatial variables in predicting travel mode choice\n",
        "\n",
        "Team Members: Eren Kaval (ek3433@nyu.edu), Shicheng Jin (sj3697@nyu.edu), Vinita Wagh (vw2050@nyu.edu), Vittorio Costa (vc2280@nyu.edu), Yu Huang (yh3483@nyu.edu). "
      ]
    },
    {
      "cell_type": "markdown",
      "metadata": {
        "id": "tdSVUlCdFa7c"
      },
      "source": [
        "## 0. Summary"
      ]
    },
    {
      "cell_type": "markdown",
      "metadata": {
        "id": "x-29wJ8NFa7c"
      },
      "source": [
        "This supervised learning analysis we try to predict the most preferred travel mode of a single person in New York City. First, we will test the performances of a benchmark model on features from Survey data aggregated at the personid level. Then, we will try to see whether by adding spatial variables (e.g., number of car registrations, number of metro stops) related to the (home) zip code has significant effects on model's performances. Also, since there are different type of modes, we have used appropriate models for multi-class classification. Lastly, we try to use SMOTE on the best predictive model to balance the label class.\n",
        "\n",
        "This notebook is organized in the following way:\n",
        "\n",
        "    1. Data Cleaning\n",
        "        a. Survey Data\n",
        "        b. Spatial Variables\n",
        "            I. Bus, Subway and Citibike Data\n",
        "            II. PLUTO Landuse Data\n",
        "            III. Car + EV Registration\n",
        "            IV. Merging Spatial Dataframes\n",
        "        c. Merging with Spatial Variables\n",
        "    2. Exploratory Analysis\n",
        "        a. PersonId Level\n",
        "        b. Zipcode Level\n",
        "    3. Data Preprocessing\n",
        "    4. Data Modelling (Classification)\n",
        "        a. Benchmark\n",
        "                I. Logistic Regression\n",
        "                II. Naive Bayes\n",
        "                III. Decision Tree\n",
        "                IV. SVM\n",
        "                V. Random Forest\n",
        "        b. Added Spatial Variables\n",
        "                I. Logistic Regression\n",
        "                II. Naive Bayes\n",
        "                III. Decision Tree\n",
        "                IV. SVM\n",
        "                V. Random Forest\n",
        "        c. Handling Imbalanced Datasets\n",
        "    5. Results Overview"
      ]
    },
    {
      "cell_type": "markdown",
      "metadata": {
        "id": "3Pko6DCyMMVs"
      },
      "source": [
        "**Important: If you want to run the notebook go to 3. Data Processing and read the file called \"df_personid.csv\" we included in the submission**"
      ]
    },
    {
      "cell_type": "markdown",
      "metadata": {
        "id": "Z-_Xx80tFa7d"
      },
      "source": [
        "## 1. Data Cleaning"
      ]
    },
    {
      "cell_type": "code",
      "execution_count": null,
      "metadata": {
        "id": "G63Rg_DAVnNy"
      },
      "outputs": [],
      "source": [
        "import pandas as pd\n",
        "import numpy as np\n",
        "import warnings\n",
        "warnings.filterwarnings('ignore')\n",
        "import geopandas as gpd\n",
        "from matplotlib import pyplot as plt\n",
        "import seaborn as sns\n",
        "from category_encoders.ordinal import OrdinalEncoder\n",
        "from sklearn.preprocessing import OneHotEncoder\n",
        "from shapely.geometry import Point\n",
        "from imblearn.over_sampling import SMOTE\n",
        "from imblearn.pipeline import Pipeline as imbpipeline\n",
        "from sklearn import metrics\n",
        "from sklearn.feature_selection import SelectKBest\n",
        "from sklearn.feature_selection import chi2\n",
        "from sklearn.preprocessing import MinMaxScaler\n",
        "import statsmodels.formula.api as smf\n",
        "from sklearn.naive_bayes import GaussianNB\n",
        "from sklearn.model_selection import train_test_split\n",
        "from scipy import stats\n",
        "from sklearn.tree import DecisionTreeClassifier\n",
        "from sklearn.metrics import accuracy_score\n",
        "from sklearn import preprocessing\n",
        "from sklearn import svm\n",
        "from sklearn.metrics import r2_score\n",
        "from sklearn.tree import DecisionTreeClassifier\n",
        "from sklearn.model_selection import GridSearchCV\n",
        "from sklearn.linear_model import LogisticRegression\n",
        "from sklearn.model_selection import StratifiedKFold\n",
        "from sklearn.pipeline import Pipeline\n",
        "from sklearn.ensemble import RandomForestClassifier"
      ]
    },
    {
      "cell_type": "markdown",
      "metadata": {
        "id": "QPxvd_LCFa7f"
      },
      "source": [
        "### a. Survey Data"
      ]
    },
    {
      "cell_type": "code",
      "execution_count": null,
      "metadata": {
        "id": "1ISmf5HaFa7f",
        "outputId": "ae6f2098-f010-4872-c03c-2cb0752241ef"
      },
      "outputs": [
        {
          "data": {
            "text/html": [
              "<div>\n",
              "<style scoped>\n",
              "    .dataframe tbody tr th:only-of-type {\n",
              "        vertical-align: middle;\n",
              "    }\n",
              "\n",
              "    .dataframe tbody tr th {\n",
              "        vertical-align: top;\n",
              "    }\n",
              "\n",
              "    .dataframe thead th {\n",
              "        text-align: right;\n",
              "    }\n",
              "</style>\n",
              "<table border=\"1\" class=\"dataframe\">\n",
              "  <thead>\n",
              "    <tr style=\"text-align: right;\">\n",
              "      <th></th>\n",
              "      <th>hhid</th>\n",
              "      <th>personid</th>\n",
              "      <th>tripid</th>\n",
              "      <th>hh_group</th>\n",
              "      <th>sample_group</th>\n",
              "      <th>daynum</th>\n",
              "      <th>tripnum</th>\n",
              "      <th>traveldate</th>\n",
              "      <th>traveldate_dow</th>\n",
              "      <th>orig_type</th>\n",
              "      <th>...</th>\n",
              "      <th>commute_subsidy_7</th>\n",
              "      <th>commute_subsidy_997</th>\n",
              "      <th>commute_subsidy_998</th>\n",
              "      <th>work_loc_postal_code</th>\n",
              "      <th>work_countyfp</th>\n",
              "      <th>work_puma10</th>\n",
              "      <th>work_bg</th>\n",
              "      <th>per_weight_wd_trips_rsadj</th>\n",
              "      <th>per_weight_sat_rsadj</th>\n",
              "      <th>per_weight_sun_rsadj</th>\n",
              "    </tr>\n",
              "  </thead>\n",
              "  <tbody>\n",
              "    <tr>\n",
              "      <th>0</th>\n",
              "      <td>22</td>\n",
              "      <td>2201</td>\n",
              "      <td>22011001</td>\n",
              "      <td>rMove</td>\n",
              "      <td>Postcard</td>\n",
              "      <td>First day of travel period</td>\n",
              "      <td>1</td>\n",
              "      <td>2018-03-15</td>\n",
              "      <td>Thursday</td>\n",
              "      <td>Home</td>\n",
              "      <td>...</td>\n",
              "      <td>Not Selected</td>\n",
              "      <td>Not Selected</td>\n",
              "      <td>Not Selected</td>\n",
              "      <td>NaN</td>\n",
              "      <td>NaN</td>\n",
              "      <td>NaN</td>\n",
              "      <td>NaN</td>\n",
              "      <td>56.3912</td>\n",
              "      <td>NaN</td>\n",
              "      <td>NaN</td>\n",
              "    </tr>\n",
              "    <tr>\n",
              "      <th>1</th>\n",
              "      <td>22</td>\n",
              "      <td>2201</td>\n",
              "      <td>22011002</td>\n",
              "      <td>rMove</td>\n",
              "      <td>Postcard</td>\n",
              "      <td>First day of travel period</td>\n",
              "      <td>2</td>\n",
              "      <td>2018-03-15</td>\n",
              "      <td>Thursday</td>\n",
              "      <td>Work</td>\n",
              "      <td>...</td>\n",
              "      <td>Not Selected</td>\n",
              "      <td>Not Selected</td>\n",
              "      <td>Not Selected</td>\n",
              "      <td>NaN</td>\n",
              "      <td>NaN</td>\n",
              "      <td>NaN</td>\n",
              "      <td>NaN</td>\n",
              "      <td>66.4692</td>\n",
              "      <td>NaN</td>\n",
              "      <td>NaN</td>\n",
              "    </tr>\n",
              "    <tr>\n",
              "      <th>2</th>\n",
              "      <td>22</td>\n",
              "      <td>2201</td>\n",
              "      <td>22011003</td>\n",
              "      <td>rMove</td>\n",
              "      <td>Postcard</td>\n",
              "      <td>First day of travel period</td>\n",
              "      <td>3</td>\n",
              "      <td>2018-03-15</td>\n",
              "      <td>Thursday</td>\n",
              "      <td>Work</td>\n",
              "      <td>...</td>\n",
              "      <td>Not Selected</td>\n",
              "      <td>Not Selected</td>\n",
              "      <td>Not Selected</td>\n",
              "      <td>NaN</td>\n",
              "      <td>NaN</td>\n",
              "      <td>NaN</td>\n",
              "      <td>NaN</td>\n",
              "      <td>53.0902</td>\n",
              "      <td>NaN</td>\n",
              "      <td>NaN</td>\n",
              "    </tr>\n",
              "    <tr>\n",
              "      <th>3</th>\n",
              "      <td>22</td>\n",
              "      <td>2201</td>\n",
              "      <td>22011004</td>\n",
              "      <td>rMove</td>\n",
              "      <td>Postcard</td>\n",
              "      <td>First day of travel period</td>\n",
              "      <td>4</td>\n",
              "      <td>2018-03-15</td>\n",
              "      <td>Thursday</td>\n",
              "      <td>Home</td>\n",
              "      <td>...</td>\n",
              "      <td>Not Selected</td>\n",
              "      <td>Not Selected</td>\n",
              "      <td>Not Selected</td>\n",
              "      <td>NaN</td>\n",
              "      <td>NaN</td>\n",
              "      <td>NaN</td>\n",
              "      <td>NaN</td>\n",
              "      <td>66.4692</td>\n",
              "      <td>NaN</td>\n",
              "      <td>NaN</td>\n",
              "    </tr>\n",
              "    <tr>\n",
              "      <th>4</th>\n",
              "      <td>22</td>\n",
              "      <td>2201</td>\n",
              "      <td>22012001</td>\n",
              "      <td>rMove</td>\n",
              "      <td>Postcard</td>\n",
              "      <td>Second day of travel period</td>\n",
              "      <td>1</td>\n",
              "      <td>2018-03-16</td>\n",
              "      <td>Friday</td>\n",
              "      <td>Home</td>\n",
              "      <td>...</td>\n",
              "      <td>Not Selected</td>\n",
              "      <td>Not Selected</td>\n",
              "      <td>Not Selected</td>\n",
              "      <td>NaN</td>\n",
              "      <td>NaN</td>\n",
              "      <td>NaN</td>\n",
              "      <td>NaN</td>\n",
              "      <td>56.3912</td>\n",
              "      <td>NaN</td>\n",
              "      <td>NaN</td>\n",
              "    </tr>\n",
              "  </tbody>\n",
              "</table>\n",
              "<p>5 rows × 247 columns</p>\n",
              "</div>"
            ],
            "text/plain": [
              "   hhid  personid    tripid hh_group sample_group  \\\n",
              "0    22      2201  22011001    rMove     Postcard   \n",
              "1    22      2201  22011002    rMove     Postcard   \n",
              "2    22      2201  22011003    rMove     Postcard   \n",
              "3    22      2201  22011004    rMove     Postcard   \n",
              "4    22      2201  22012001    rMove     Postcard   \n",
              "\n",
              "                        daynum  tripnum traveldate traveldate_dow orig_type  \\\n",
              "0   First day of travel period        1 2018-03-15       Thursday      Home   \n",
              "1   First day of travel period        2 2018-03-15       Thursday      Work   \n",
              "2   First day of travel period        3 2018-03-15       Thursday      Work   \n",
              "3   First day of travel period        4 2018-03-15       Thursday      Home   \n",
              "4  Second day of travel period        1 2018-03-16         Friday      Home   \n",
              "\n",
              "   ... commute_subsidy_7 commute_subsidy_997 commute_subsidy_998  \\\n",
              "0  ...      Not Selected        Not Selected        Not Selected   \n",
              "1  ...      Not Selected        Not Selected        Not Selected   \n",
              "2  ...      Not Selected        Not Selected        Not Selected   \n",
              "3  ...      Not Selected        Not Selected        Not Selected   \n",
              "4  ...      Not Selected        Not Selected        Not Selected   \n",
              "\n",
              "  work_loc_postal_code  work_countyfp  work_puma10 work_bg  \\\n",
              "0                  NaN            NaN          NaN     NaN   \n",
              "1                  NaN            NaN          NaN     NaN   \n",
              "2                  NaN            NaN          NaN     NaN   \n",
              "3                  NaN            NaN          NaN     NaN   \n",
              "4                  NaN            NaN          NaN     NaN   \n",
              "\n",
              "  per_weight_wd_trips_rsadj  per_weight_sat_rsadj  per_weight_sun_rsadj  \n",
              "0                   56.3912                   NaN                   NaN  \n",
              "1                   66.4692                   NaN                   NaN  \n",
              "2                   53.0902                   NaN                   NaN  \n",
              "3                   66.4692                   NaN                   NaN  \n",
              "4                   56.3912                   NaN                   NaN  \n",
              "\n",
              "[5 rows x 247 columns]"
            ]
          },
          "execution_count": 21,
          "metadata": {},
          "output_type": "execute_result"
        }
      ],
      "source": [
        "# Original dataset: Survey data about linked trips \n",
        "# Each entry is a trip taken by the person in which all the modes of transportation are specified\n",
        "df = pd.read_excel(\"/Users/vittoriocosta/Downloads/Linked.xlsx\")\n",
        "df.head()"
      ]
    },
    {
      "cell_type": "code",
      "execution_count": null,
      "metadata": {
        "id": "3c8lgK03Fa7h"
      },
      "outputs": [],
      "source": [
        "# Make the job count numerical\n",
        "df[\"job_count\"] = df[\"job_count\"].replace([None,\"1 job\",\"2 jobs\",\"3 jobs\",\"4 jobs\",\"5 or more jobs\"],[0,1,2,3,4,5])"
      ]
    },
    {
      "cell_type": "code",
      "execution_count": null,
      "metadata": {
        "id": "ZvL0H4fLFa7i"
      },
      "outputs": [],
      "source": [
        "# Make the number of the day of travel period numerical\n",
        "df[\"daynum\"] = df[\"daynum\"].replace([\"First day of travel period\",\"Second day of travel period\",\"Third day of travel period\",\"Fourth day of travel period\",\"Fifth day of travel period\",\"Sixth day of travel period\", \"Seventh day of travel period\"],[1,2,3,4,5,6,7])"
      ]
    },
    {
      "cell_type": "code",
      "execution_count": null,
      "metadata": {
        "id": "nrovGyFWFa7i"
      },
      "outputs": [],
      "source": [
        "# Make household size numerical\n",
        "df[\"hhsize\"] = df[\"hhsize\"].replace([\"1 (I am the only person)\",\"2 people\",\"3 people\",\"4 people\",\"5 people\",\"6 people\",\\\n",
        "                                     \"7 people\",\"8 people\",\"9 people\",\"10 people or more\"],[1,2,3,4,5,6,7,8,9,10])\n",
        "df[\"hhsize\"] = df[\"hhsize\"].astype(int)"
      ]
    },
    {
      "cell_type": "code",
      "execution_count": null,
      "metadata": {
        "id": "AxE4uP0FFa7j"
      },
      "outputs": [],
      "source": [
        "# Make the vehicle count numerical \n",
        "df[\"vehicle_count\"].astype(str)\n",
        "df[\"vehicle_count\"] = df[\"vehicle_count\"].replace(\"0 (no vehicles)\",0)\n",
        "df[\"vehicle_count\"] = df[\"vehicle_count\"].replace(\"5 or more vehicles\",5)\n",
        "df[\"vehicle_count\"] = df[\"vehicle_count\"].astype(int)"
      ]
    },
    {
      "cell_type": "code",
      "execution_count": null,
      "metadata": {
        "id": "Z4EJ6mVTFa7j"
      },
      "outputs": [],
      "source": [
        "# Convert distance to miles\n",
        "df[\"distance\"] = df[\"distance\"].fillna(\"0\")\n",
        "df[\"distance\"] = df[\"distance\"].astype(int)\n",
        "df[\"distance\"] = df[\"distance\"] * 0.621371"
      ]
    },
    {
      "cell_type": "code",
      "execution_count": null,
      "metadata": {
        "id": "ht8_2De4Fa7k"
      },
      "outputs": [],
      "source": [
        "# Ordinal encoding by hand\n",
        "df[\"is_student\"] = df[\"student_status\"]\n",
        "df[\"is_student\"].loc[df[\"student_status\"] == \"Not a student\"] = 0\n",
        "df[\"is_student\"].loc[df[\"student_status\"] != \"Not a student\"] = 1\n",
        "df[\"has_license\"] = df[\"license\"]\n",
        "df[\"has_license\"].loc[df[\"license\"] == \"Yes (license or learner’s permit)\"] = 1\n",
        "df[\"has_license\"].loc[df[\"license\"] != \"Yes (license or learner’s permit)\"] = 0\n",
        "df[\"hasunder18\"] = df[\"numagebelow18\"]\n",
        "df[\"hasunder18\"].loc[df[\"numagebelow18\"]==\"None\"] = 0\n",
        "df[\"hasunder18\"].loc[df[\"numagebelow18\"]!=\"None\"] = 1\n",
        "df[\"hasdisability\"] = df[\"disability\"]\n",
        "df[\"hasdisability\"].loc[df[\"disability\"]==\"Yes\"] = 1\n",
        "df[\"hasdisability\"].loc[df[\"disability\"]!=\"Yes\"] = 0\n",
        "df[\"hassmartphone\"] = \"smartphone_own\"\n",
        "df[\"hassmartphone\"].loc[df[\"smartphone_own\"]==\"Yes\"] = 1\n",
        "df[\"hassmartphone\"].loc[df[\"smartphone_own\"]!=\"Yes\"] = 0\n",
        "df[\"isbornus\"] = df[\"born_us\"]\n",
        "df[\"isbornus\"].loc[df[\"born_us\"]==\"Yes\"] = 1\n",
        "df[\"isbornus\"].loc[df[\"born_us\"]!=\"Yes\"] = 0"
      ]
    },
    {
      "cell_type": "code",
      "execution_count": null,
      "metadata": {
        "id": "_IWqeX4oFa7l"
      },
      "outputs": [],
      "source": [
        "# find the number of trip segments for each trip\n",
        "df[\"mode1_bool\"] = df[\"mode1\"].notnull().astype(int)\n",
        "df[\"mode2_bool\"] = df[\"mode2\"].notnull().astype(int)\n",
        "df[\"mode3_bool\"] = df[\"mode3\"].notnull().astype(int)\n",
        "df[\"mode4_bool\"] = df[\"mode4\"].notnull().astype(int)\n",
        "df[\"mode5_bool\"] = df[\"mode5\"].notnull().astype(int)\n",
        "df[\"mode6_bool\"] = df[\"mode6\"].notnull().astype(int)\n",
        "df[\"mode7_bool\"] = df[\"mode7\"].notnull().astype(int)\n",
        "df[\"mode8_bool\"] = df[\"mode8\"].notnull().astype(int)\n",
        "df[\"mode9_bool\"] = df[\"mode9\"].notnull().astype(int)\n",
        "df[\"mode10_bool\"] = df[\"mode10\"].notnull().astype(int)\n",
        "df[\"num_trips\"] = df[\"mode1_bool\"] + df[\"mode2_bool\"] + df[\"mode3_bool\"] + df[\"mode4_bool\"] + df[\"mode5_bool\"] + df[\"mode6_bool\"] + df[\"mode7_bool\"] + df[\"mode8_bool\"] + df[\"mode9_bool\"] + df[\"mode10_bool\"]"
      ]
    },
    {
      "cell_type": "code",
      "execution_count": null,
      "metadata": {
        "id": "42WQI7TMFa7l"
      },
      "outputs": [],
      "source": [
        "# Manually encode ethnicities\n",
        "df[\"ethnicity_american_alaska\"] = df[\"ethnicity_1\"]\n",
        "df[\"ethnicity_american_alaska\"].loc[df[\"ethnicity_1\"]==\"Selected\"] = 1\n",
        "df[\"ethnicity_american_alaska\"].loc[df[\"ethnicity_1\"]!=\"Selected\"] = 0\n",
        "df[\"ethnicity_asian\"] = df[\"ethnicity_2\"]\n",
        "df[\"ethnicity_asian\"].loc[df[\"ethnicity_2\"]==\"Selected\"] = 1\n",
        "df[\"ethnicity_asian\"].loc[df[\"ethnicity_2\"]!=\"Selected\"] = 0\n",
        "df[\"ethnicity_black\"] = df[\"ethnicity_3\"]\n",
        "df[\"ethnicity_black\"].loc[df[\"ethnicity_3\"]==\"Selected\"] = 1\n",
        "df[\"ethnicity_black\"].loc[df[\"ethnicity_3\"]!=\"Selected\"] = 0\n",
        "df[\"ethnicity_hawaii\"] = df[\"ethnicity_4\"]\n",
        "df[\"ethnicity_hawaii\"].loc[df[\"ethnicity_4\"]==\"Selected\"] = 1\n",
        "df[\"ethnicity_hawaii\"].loc[df[\"ethnicity_4\"]!=\"Selected\"] = 0\n",
        "df[\"ethnicity_white\"] = df[\"ethnicity_5\"]\n",
        "df[\"ethnicity_white\"].loc[df[\"ethnicity_5\"]==\"Selected\"] = 1\n",
        "df[\"ethnicity_white\"].loc[df[\"ethnicity_5\"]!=\"Selected\"] = 0\n",
        "df[\"ethnicity_other\"] = df[\"ethnicity_997\"]\n",
        "df[\"ethnicity_other\"].loc[df[\"ethnicity_997\"]==\"Selected\"] = 1\n",
        "df[\"ethnicity_other\"].loc[df[\"ethnicity_997\"]!=\"Selected\"] = 0\n",
        "df[\"ethnicity_noanswer\"] = df[\"ethnicity_999\"]\n",
        "df[\"ethnicity_noanswer\"].loc[df[\"ethnicity_999\"]==\"Selected\"] = 1\n",
        "df[\"ethnicity_noanswer\"].loc[df[\"ethnicity_999\"]!=\"Selected\"] = 0"
      ]
    },
    {
      "cell_type": "code",
      "execution_count": null,
      "metadata": {
        "id": "nctFiV0kFa7m"
      },
      "outputs": [],
      "source": [
        "# Make the household income numerical (taking the mean of the value specified by the original range)\n",
        "df[\"hh_income\"] = df[\"hh_income\"].replace(['$300,000 or more', '$100,000 - $149,999', '$75,000 - $99,999',\n",
        "                                                         '$16,000- $19,999', '$37,000 - $40,999', '$50,000 - $74,999',\n",
        "                                                         '$200,000 - $299,999', '$150,000 - $199,999', '$20,000 - $24,999',\n",
        "                                                         '$12,000 - $15,999', '$25,000 - $28,999', '$29,000 - $32,999',\n",
        "                                                         '$41,000 - $49,999', '$33,000 - $36,999', 'Less than $12,000', '[]'], \n",
        "                                                        [300000, 125000, 87500, 18000, 38500, 62500, 250000, 175000, 225000, 14000, 27000, 31000, 43000, 35000, 12000, 0],)"
      ]
    },
    {
      "cell_type": "code",
      "execution_count": null,
      "metadata": {
        "id": "xhMWNd3lFa7n"
      },
      "outputs": [],
      "source": [
        "# Make the age numerical (taking the mean of the value specified by the original range)\n",
        "df[\"age\"] = df[\"age\"].replace(['35-39 years', '18-24 years', '30-34 years', '25-29 years', \n",
        "                                             '16-17 years', '40-44 years', 'Under 5 years old', '50-54 years',\n",
        "                                             '5-15 years', '45-49 years', '55-59 years', '60-64 years',\n",
        "                                             '65-69 years', '70-74 years', '75-79 years', '85 or years older',\n",
        "                                             '80-84 years'],\n",
        "                                            [37.0, 21.0, 32.0, 27.0, 16.5, 42.0, 5.0, 52.0, 10.0, 47.0, 57.0, 62.0, 67.0, 72.0, 77.0, 85.0, 82.0],)"
      ]
    },
    {
      "cell_type": "code",
      "execution_count": null,
      "metadata": {
        "id": "6SQ2CiITFa7n"
      },
      "outputs": [],
      "source": [
        "# Find the mode distribution and the preferred mode of tranportation for each personid\n",
        "curr_id = 0\n",
        "df[\"preferred mode\"] = \"Walk/Bike\"\n",
        "list_modes = []\n",
        "columns = [\"mode1\",\"mode2\",\"mode3\",\"mode4\",\"mode5\",\"mode6\",\"mode7\",\"mode8\",\"mode9\",\"mode10\"]\n",
        "start=0\n",
        "for i in range(len(df)):\n",
        "    # if the id changes enter this part of the code\n",
        "    if df[\"personid\"][i] != df[\"personid\"].unique()[curr_id]:\n",
        "        mode = max(set(list_modes), key=list_modes.count)\n",
        "        df[\"preferred mode\"][start:i] = mode\n",
        "        num_trips = sum(df[\"num_trips\"][start:i])\n",
        "        curr_id += 1\n",
        "        start=i\n",
        "        list_modes = []\n",
        "    for j in columns:\n",
        "        if type(df[j].iloc[i]) == str:\n",
        "            # append the mode of transportation for each segment to the list of modes (for that personid)\n",
        "            list_modes.append(df[j].iloc[i])\n",
        "            # add the mode of transportation to its category counter (for that personid)"
      ]
    },
    {
      "cell_type": "code",
      "execution_count": null,
      "metadata": {
        "id": "6suJeJEuFa7n"
      },
      "outputs": [],
      "source": [
        "# Fill nans\n",
        "df[\"orig_type\"] = df[\"orig_type\"].fillna(\"\")\n",
        "df[\"purpose\"] = df[\"purpose\"].fillna(\"\")\n",
        "df[\"education_level\"] = df[\"education_level\"].fillna(\"\")\n",
        "df[\"english_prof \"] = df[\"english_prof\"].fillna(\"\")\n",
        "df[\"job_type\"] = df[\"job_type\"].fillna(\"\")\n",
        "df[\"commute_freq\"] = df[\"commute_freq\"].fillna(\"\")\n",
        "df[\"telecommute_freq\"] = df[\"telecommute_freq\"].fillna(\"\")\n",
        "df[\"home_postal_code\"] = df[\"home_postal_code\"].fillna(0)\n",
        "df[\"hh_income\"] = df[\"hh_income\"].fillna(df[\"hh_income\"].median())"
      ]
    },
    {
      "cell_type": "code",
      "execution_count": null,
      "metadata": {
        "id": "VEPX8vNnFa7o",
        "outputId": "2660700c-dd15-4881-d8a1-22bbb9aee243"
      },
      "outputs": [
        {
          "data": {
            "text/html": [
              "<div>\n",
              "<style scoped>\n",
              "    .dataframe tbody tr th:only-of-type {\n",
              "        vertical-align: middle;\n",
              "    }\n",
              "\n",
              "    .dataframe tbody tr th {\n",
              "        vertical-align: top;\n",
              "    }\n",
              "\n",
              "    .dataframe thead th {\n",
              "        text-align: right;\n",
              "    }\n",
              "</style>\n",
              "<table border=\"1\" class=\"dataframe\">\n",
              "  <thead>\n",
              "    <tr style=\"text-align: right;\">\n",
              "      <th></th>\n",
              "      <th>hh_group</th>\n",
              "      <th>sample_group</th>\n",
              "      <th>dest_type</th>\n",
              "      <th>orig_type</th>\n",
              "      <th>tour_purpose</th>\n",
              "      <th>departure_hour</th>\n",
              "      <th>orig_bg</th>\n",
              "      <th>dest_bg</th>\n",
              "      <th>distance</th>\n",
              "      <th>vehicle_count</th>\n",
              "      <th>...</th>\n",
              "      <th>telecommute_freq</th>\n",
              "      <th>work_bg</th>\n",
              "      <th>is_student</th>\n",
              "      <th>has_license</th>\n",
              "      <th>hasunder18</th>\n",
              "      <th>hassmartphone</th>\n",
              "      <th>isbornus</th>\n",
              "      <th>num_trips</th>\n",
              "      <th>home_postal_code</th>\n",
              "      <th>preferred mode</th>\n",
              "    </tr>\n",
              "    <tr>\n",
              "      <th>personid</th>\n",
              "      <th></th>\n",
              "      <th></th>\n",
              "      <th></th>\n",
              "      <th></th>\n",
              "      <th></th>\n",
              "      <th></th>\n",
              "      <th></th>\n",
              "      <th></th>\n",
              "      <th></th>\n",
              "      <th></th>\n",
              "      <th></th>\n",
              "      <th></th>\n",
              "      <th></th>\n",
              "      <th></th>\n",
              "      <th></th>\n",
              "      <th></th>\n",
              "      <th></th>\n",
              "      <th></th>\n",
              "      <th></th>\n",
              "      <th></th>\n",
              "      <th></th>\n",
              "    </tr>\n",
              "  </thead>\n",
              "  <tbody>\n",
              "    <tr>\n",
              "      <th>2201</th>\n",
              "      <td>rMove</td>\n",
              "      <td>Postcard</td>\n",
              "      <td>Home</td>\n",
              "      <td>Home</td>\n",
              "      <td>Work</td>\n",
              "      <td>13.315789</td>\n",
              "      <td>3.608100e+11</td>\n",
              "      <td>3.608100e+11</td>\n",
              "      <td>1.210038</td>\n",
              "      <td>0</td>\n",
              "      <td>...</td>\n",
              "      <td>Less than monthly</td>\n",
              "      <td>NaN</td>\n",
              "      <td>0</td>\n",
              "      <td>1</td>\n",
              "      <td>1</td>\n",
              "      <td>1</td>\n",
              "      <td>1</td>\n",
              "      <td>23</td>\n",
              "      <td>11101.0</td>\n",
              "      <td>Walk/Bike</td>\n",
              "    </tr>\n",
              "    <tr>\n",
              "      <th>2701</th>\n",
              "      <td>rMove</td>\n",
              "      <td>Postcard</td>\n",
              "      <td>Friend/Family member’s house</td>\n",
              "      <td>Home</td>\n",
              "      <td>Work</td>\n",
              "      <td>14.000000</td>\n",
              "      <td>3.608101e+11</td>\n",
              "      <td>3.608101e+11</td>\n",
              "      <td>8.284947</td>\n",
              "      <td>1</td>\n",
              "      <td>...</td>\n",
              "      <td>When necessary (e.g., during severe weather)</td>\n",
              "      <td>3.606101e+11</td>\n",
              "      <td>0</td>\n",
              "      <td>1</td>\n",
              "      <td>0</td>\n",
              "      <td>1</td>\n",
              "      <td>1</td>\n",
              "      <td>8</td>\n",
              "      <td>11105.0</td>\n",
              "      <td>NYC Subway</td>\n",
              "    </tr>\n",
              "    <tr>\n",
              "      <th>3501</th>\n",
              "      <td>rSurvey</td>\n",
              "      <td>Postcard</td>\n",
              "      <td>Home</td>\n",
              "      <td>Home</td>\n",
              "      <td>Work</td>\n",
              "      <td>15.666667</td>\n",
              "      <td>3.606101e+11</td>\n",
              "      <td>3.606101e+11</td>\n",
              "      <td>3.935350</td>\n",
              "      <td>0</td>\n",
              "      <td>...</td>\n",
              "      <td>1-3 days per month</td>\n",
              "      <td>3.606101e+11</td>\n",
              "      <td>0</td>\n",
              "      <td>1</td>\n",
              "      <td>0</td>\n",
              "      <td>1</td>\n",
              "      <td>1</td>\n",
              "      <td>3</td>\n",
              "      <td>11225.0</td>\n",
              "      <td>NYC Subway</td>\n",
              "    </tr>\n",
              "    <tr>\n",
              "      <th>4101</th>\n",
              "      <td>rSurvey</td>\n",
              "      <td>Postcard</td>\n",
              "      <td>Home</td>\n",
              "      <td>Friend/Family member’s house</td>\n",
              "      <td>Missing</td>\n",
              "      <td>15.000000</td>\n",
              "      <td>3.606102e+11</td>\n",
              "      <td>3.608104e+11</td>\n",
              "      <td>9.941936</td>\n",
              "      <td>0</td>\n",
              "      <td>...</td>\n",
              "      <td>2-3 days a week</td>\n",
              "      <td>3.606101e+11</td>\n",
              "      <td>0</td>\n",
              "      <td>1</td>\n",
              "      <td>0</td>\n",
              "      <td>1</td>\n",
              "      <td>0</td>\n",
              "      <td>2</td>\n",
              "      <td>11369.0</td>\n",
              "      <td>NYC Subway</td>\n",
              "    </tr>\n",
              "    <tr>\n",
              "      <th>4401</th>\n",
              "      <td>rMove</td>\n",
              "      <td>Postcard</td>\n",
              "      <td>Work</td>\n",
              "      <td>Work</td>\n",
              "      <td>Work</td>\n",
              "      <td>13.736842</td>\n",
              "      <td>3.608102e+11</td>\n",
              "      <td>3.608102e+11</td>\n",
              "      <td>5.363413</td>\n",
              "      <td>1</td>\n",
              "      <td>...</td>\n",
              "      <td>Never</td>\n",
              "      <td>3.606101e+11</td>\n",
              "      <td>0</td>\n",
              "      <td>1</td>\n",
              "      <td>0</td>\n",
              "      <td>1</td>\n",
              "      <td>0</td>\n",
              "      <td>30</td>\n",
              "      <td>10475.0</td>\n",
              "      <td>NYC Subway</td>\n",
              "    </tr>\n",
              "  </tbody>\n",
              "</table>\n",
              "<p>5 rows × 39 columns</p>\n",
              "</div>"
            ],
            "text/plain": [
              "         hh_group sample_group                     dest_type  \\\n",
              "personid                                                       \n",
              "2201        rMove     Postcard                          Home   \n",
              "2701        rMove     Postcard  Friend/Family member’s house   \n",
              "3501      rSurvey     Postcard                          Home   \n",
              "4101      rSurvey     Postcard                          Home   \n",
              "4401        rMove     Postcard                          Work   \n",
              "\n",
              "                             orig_type tour_purpose  departure_hour  \\\n",
              "personid                                                              \n",
              "2201                              Home         Work       13.315789   \n",
              "2701                              Home         Work       14.000000   \n",
              "3501                              Home         Work       15.666667   \n",
              "4101      Friend/Family member’s house      Missing       15.000000   \n",
              "4401                              Work         Work       13.736842   \n",
              "\n",
              "               orig_bg       dest_bg  distance  vehicle_count  ...  \\\n",
              "personid                                                       ...   \n",
              "2201      3.608100e+11  3.608100e+11  1.210038              0  ...   \n",
              "2701      3.608101e+11  3.608101e+11  8.284947              1  ...   \n",
              "3501      3.606101e+11  3.606101e+11  3.935350              0  ...   \n",
              "4101      3.606102e+11  3.608104e+11  9.941936              0  ...   \n",
              "4401      3.608102e+11  3.608102e+11  5.363413              1  ...   \n",
              "\n",
              "                                      telecommute_freq       work_bg  \\\n",
              "personid                                                               \n",
              "2201                                 Less than monthly           NaN   \n",
              "2701      When necessary (e.g., during severe weather)  3.606101e+11   \n",
              "3501                                1-3 days per month  3.606101e+11   \n",
              "4101                                   2-3 days a week  3.606101e+11   \n",
              "4401                                             Never  3.606101e+11   \n",
              "\n",
              "          is_student  has_license hasunder18  hassmartphone  isbornus  \\\n",
              "personid                                                                \n",
              "2201               0            1          1              1         1   \n",
              "2701               0            1          0              1         1   \n",
              "3501               0            1          0              1         1   \n",
              "4101               0            1          0              1         0   \n",
              "4401               0            1          0              1         0   \n",
              "\n",
              "         num_trips home_postal_code  preferred mode  \n",
              "personid                                             \n",
              "2201            23          11101.0       Walk/Bike  \n",
              "2701             8          11105.0      NYC Subway  \n",
              "3501             3          11225.0      NYC Subway  \n",
              "4101             2          11369.0      NYC Subway  \n",
              "4401            30          10475.0      NYC Subway  \n",
              "\n",
              "[5 rows x 39 columns]"
            ]
          },
          "execution_count": 34,
          "metadata": {},
          "output_type": "execute_result"
        }
      ],
      "source": [
        "# Aggregate by personid and create the dataframe for the first part of the analysis\n",
        "df_personid = df.groupby(['personid']).agg({'hh_group':pd.Series.mode,'sample_group':pd.Series.mode,\\\n",
        "                                            'dest_type': lambda x: pd.Series.mode(x)[0], 'orig_type': lambda x: pd.Series.mode(x)[0],\\\n",
        "                                            'tour_purpose': lambda x: pd.Series.mode(x)[0], 'departure_hour': 'mean', 'orig_bg':'max',\\\n",
        "                                            'dest_bg':'max', 'distance': 'mean','vehicle_count':'max','hhsize':'max',\\\n",
        "                                            'res_duration': lambda x: pd.Series.mode(x)[0], 'home_bg': 'max', 'hh_income': 'max',\\\n",
        "                                            'gender': pd.Series.mode, 'age': 'max', 'job_count': 'max',\\\n",
        "                                            'education_level': pd.Series.mode, 'english_prof': pd.Series.mode,\\\n",
        "                                            \"ethnicity_american_alaska\": 'max', \"ethnicity_asian\": 'max',\\\n",
        "                                            \"ethnicity_black\": 'max', \"ethnicity_hawaii\": 'max',\\\n",
        "                                            \"ethnicity_white\": 'max', \"ethnicity_other\": 'max',\\\n",
        "                                            \"ethnicity_noanswer\": 'max', 'job_type': pd.Series.mode,\\\n",
        "                                            'hours_worked': pd.Series.mode, \"commute_freq\":  pd.Series.mode,\\\n",
        "                                            'telecommute_freq':  pd.Series.mode, 'work_bg': 'max',\\\n",
        "                                            'is_student': 'max', 'has_license': 'max','hasunder18': 'max',\\\n",
        "                                            'hassmartphone':'max', 'isbornus': 'max',\\\n",
        "                                            \"num_trips\":\"sum\", 'home_postal_code':'max', \"preferred mode\": pd.Series.mode})\n",
        "df_personid.head()"
      ]
    },
    {
      "cell_type": "code",
      "execution_count": null,
      "metadata": {
        "id": "EfpxfXo6Fa7o",
        "outputId": "df340e4e-1c55-4376-8211-611ba9d8ad1a"
      },
      "outputs": [
        {
          "name": "stdout",
          "output_type": "stream",
          "text": [
            "(20032, 39)\n"
          ]
        }
      ],
      "source": [
        "print(df_personid.shape)"
      ]
    },
    {
      "cell_type": "code",
      "execution_count": null,
      "metadata": {
        "id": "o2Nbwk5bFa7p",
        "outputId": "62d34379-977b-4523-9161-20c31f254fa2"
      },
      "outputs": [
        {
          "name": "stdout",
          "output_type": "stream",
          "text": [
            "<class 'pandas.core.frame.DataFrame'>\n",
            "Int64Index: 20032 entries, 2201 to 5608902\n",
            "Data columns (total 39 columns):\n",
            " #   Column                     Non-Null Count  Dtype  \n",
            "---  ------                     --------------  -----  \n",
            " 0   hh_group                   20032 non-null  object \n",
            " 1   sample_group               20032 non-null  object \n",
            " 2   dest_type                  20032 non-null  object \n",
            " 3   orig_type                  20032 non-null  object \n",
            " 4   tour_purpose               20032 non-null  object \n",
            " 5   departure_hour             20032 non-null  float64\n",
            " 6   orig_bg                    19883 non-null  float64\n",
            " 7   dest_bg                    19901 non-null  float64\n",
            " 8   distance                   20032 non-null  float64\n",
            " 9   vehicle_count              20032 non-null  int64  \n",
            " 10  hhsize                     20032 non-null  int64  \n",
            " 11  res_duration               20032 non-null  object \n",
            " 12  home_bg                    20032 non-null  int64  \n",
            " 13  hh_income                  20032 non-null  float64\n",
            " 14  gender                     20032 non-null  object \n",
            " 15  age                        20032 non-null  float64\n",
            " 16  job_count                  20032 non-null  int64  \n",
            " 17  education_level            20032 non-null  object \n",
            " 18  english_prof               20032 non-null  object \n",
            " 19  ethnicity_american_alaska  20032 non-null  int64  \n",
            " 20  ethnicity_asian            20032 non-null  int64  \n",
            " 21  ethnicity_black            20032 non-null  int64  \n",
            " 22  ethnicity_hawaii           20032 non-null  int64  \n",
            " 23  ethnicity_white            20032 non-null  int64  \n",
            " 24  ethnicity_other            20032 non-null  int64  \n",
            " 25  ethnicity_noanswer         20032 non-null  int64  \n",
            " 26  job_type                   20032 non-null  object \n",
            " 27  hours_worked               20032 non-null  object \n",
            " 28  commute_freq               20032 non-null  object \n",
            " 29  telecommute_freq           20032 non-null  object \n",
            " 30  work_bg                    10369 non-null  float64\n",
            " 31  is_student                 20032 non-null  int64  \n",
            " 32  has_license                20032 non-null  int64  \n",
            " 33  hasunder18                 20032 non-null  int64  \n",
            " 34  hassmartphone              20032 non-null  int64  \n",
            " 35  isbornus                   20032 non-null  int64  \n",
            " 36  num_trips                  20032 non-null  int64  \n",
            " 37  home_postal_code           20032 non-null  float64\n",
            " 38  preferred mode             20032 non-null  object \n",
            "dtypes: float64(8), int64(17), object(14)\n",
            "memory usage: 6.1+ MB\n"
          ]
        }
      ],
      "source": [
        "df_personid.info()"
      ]
    },
    {
      "cell_type": "code",
      "execution_count": null,
      "metadata": {
        "id": "0sdKXe6sFa7p"
      },
      "outputs": [],
      "source": [
        "# drop columns (too many nans)\n",
        "df_personid = df_personid.drop(columns=[\"work_bg\"])"
      ]
    },
    {
      "cell_type": "markdown",
      "metadata": {
        "id": "1Lv97zLeFa7p"
      },
      "source": [
        "### b. Spatial Variables (zipcode level)"
      ]
    },
    {
      "cell_type": "markdown",
      "metadata": {
        "id": "fE8EuI7JFa7q"
      },
      "source": [
        "#### I. Bus, Subway and Citibike Data"
      ]
    },
    {
      "cell_type": "code",
      "execution_count": null,
      "metadata": {
        "id": "uol3RpcqFa7q"
      },
      "outputs": [],
      "source": [
        "trans = pd.read_csv('transportation.csv', encoding = 'UTF-8')"
      ]
    },
    {
      "cell_type": "code",
      "execution_count": null,
      "metadata": {
        "id": "umk8oPcvFa7q"
      },
      "outputs": [],
      "source": [
        "trans = trans[['ZIPCODE', 'bus', 'subway', 'citybike']]"
      ]
    },
    {
      "cell_type": "code",
      "execution_count": null,
      "metadata": {
        "id": "N04kAlT2Fa7q",
        "outputId": "59679baf-6c76-4b11-9b3c-85448d501f34"
      },
      "outputs": [
        {
          "data": {
            "text/html": [
              "<div>\n",
              "<style scoped>\n",
              "    .dataframe tbody tr th:only-of-type {\n",
              "        vertical-align: middle;\n",
              "    }\n",
              "\n",
              "    .dataframe tbody tr th {\n",
              "        vertical-align: top;\n",
              "    }\n",
              "\n",
              "    .dataframe thead th {\n",
              "        text-align: right;\n",
              "    }\n",
              "</style>\n",
              "<table border=\"1\" class=\"dataframe\">\n",
              "  <thead>\n",
              "    <tr style=\"text-align: right;\">\n",
              "      <th></th>\n",
              "      <th>ZIPCODE</th>\n",
              "      <th>bus</th>\n",
              "      <th>subway</th>\n",
              "      <th>citybike</th>\n",
              "    </tr>\n",
              "  </thead>\n",
              "  <tbody>\n",
              "    <tr>\n",
              "      <th>0</th>\n",
              "      <td>83</td>\n",
              "      <td>57.00</td>\n",
              "      <td>6.00</td>\n",
              "      <td>13.00</td>\n",
              "    </tr>\n",
              "    <tr>\n",
              "      <th>1</th>\n",
              "      <td>10001</td>\n",
              "      <td>53.00</td>\n",
              "      <td>7.00</td>\n",
              "      <td>15.00</td>\n",
              "    </tr>\n",
              "    <tr>\n",
              "      <th>2</th>\n",
              "      <td>10002</td>\n",
              "      <td>81.00</td>\n",
              "      <td>5.00</td>\n",
              "      <td>24.00</td>\n",
              "    </tr>\n",
              "    <tr>\n",
              "      <th>3</th>\n",
              "      <td>10003</td>\n",
              "      <td>55.00</td>\n",
              "      <td>7.00</td>\n",
              "      <td>23.00</td>\n",
              "    </tr>\n",
              "    <tr>\n",
              "      <th>4</th>\n",
              "      <td>10004</td>\n",
              "      <td>3.25</td>\n",
              "      <td>0.75</td>\n",
              "      <td>8.75</td>\n",
              "    </tr>\n",
              "  </tbody>\n",
              "</table>\n",
              "</div>"
            ],
            "text/plain": [
              "   ZIPCODE    bus  subway  citybike\n",
              "0       83  57.00    6.00     13.00\n",
              "1    10001  53.00    7.00     15.00\n",
              "2    10002  81.00    5.00     24.00\n",
              "3    10003  55.00    7.00     23.00\n",
              "4    10004   3.25    0.75      8.75"
            ]
          },
          "execution_count": 40,
          "metadata": {},
          "output_type": "execute_result"
        }
      ],
      "source": [
        "trans1 = trans.groupby(['ZIPCODE']).mean().reset_index()\n",
        "trans1.head()"
      ]
    },
    {
      "cell_type": "markdown",
      "metadata": {
        "id": "4mwNYD8dFa7q"
      },
      "source": [
        "#### II. PLUTO Landuse Data"
      ]
    },
    {
      "cell_type": "code",
      "execution_count": null,
      "metadata": {
        "id": "2t2dp6gKFa7r"
      },
      "outputs": [],
      "source": [
        "tax_lot = pd.read_csv('pluto_21v3.csv', encoding = 'UTF-8')"
      ]
    },
    {
      "cell_type": "code",
      "execution_count": null,
      "metadata": {
        "id": "jvdPvTZnFa7r"
      },
      "outputs": [],
      "source": [
        "# keeping only necessary columns\n",
        "tax_lot = tax_lot[['borough', 'lot', 'ct2010', 'zipcode', 'landuse', 'lotarea']]"
      ]
    },
    {
      "cell_type": "code",
      "execution_count": null,
      "metadata": {
        "id": "00qeZ6yaFa7r"
      },
      "outputs": [],
      "source": [
        "# keep only certain landuse\n",
        "landuse_code = [1.0, 2.0, 3.0, 4.0, 5.0]\n",
        "tax_lot_land = tax_lot[tax_lot['landuse'].isin(landuse_code)]\n",
        "\n",
        "### landuse\n",
        "# 01 = One & Two Family Buildings\n",
        "# 02 = Multi-Family Walk-Up Buildings\n",
        "# 03 = Multi-Family Elevator Buildings\n",
        "# 04 = Mixed Residential & Commercial Buildings\n",
        "# 05 = Commercial & Office Buildings\n",
        "\n",
        "# 07 = Transportation & Utility\n",
        "# 10 = Parking Facilities\n",
        "# 06 = Industrial & Manufacturing\n",
        "# 08 = Public Facilities & Institutions\n",
        "# 09 = Open Space & Outdoor Recreation\n",
        "# 11 = Vacant Land"
      ]
    },
    {
      "cell_type": "code",
      "execution_count": null,
      "metadata": {
        "id": "SNhZPnL7Fa7r",
        "outputId": "2161333f-7aa2-4716-de26-764901a6bee2"
      },
      "outputs": [
        {
          "data": {
            "text/plain": [
              "borough      0\n",
              "lot          0\n",
              "ct2010     245\n",
              "zipcode    247\n",
              "landuse      0\n",
              "lotarea    506\n",
              "dtype: int64"
            ]
          },
          "execution_count": 44,
          "metadata": {},
          "output_type": "execute_result"
        }
      ],
      "source": [
        "# check for null values\n",
        "tax_lot_land.isnull().sum()"
      ]
    },
    {
      "cell_type": "code",
      "execution_count": null,
      "metadata": {
        "id": "chqARYtmFa7s"
      },
      "outputs": [],
      "source": [
        "# remove entries with null values\n",
        "tax_lot_filter = tax_lot_land.dropna()"
      ]
    },
    {
      "cell_type": "code",
      "execution_count": null,
      "metadata": {
        "id": "pNp-Bs4pFa7s"
      },
      "outputs": [],
      "source": [
        "# replace landuse numbers with names\n",
        "tax_lot_filter[\"landuse\"] = tax_lot_filter[\"landuse\"].replace([1.0, 2.0, 3.0, 4.0, 5.0], ['res', 'res', 'res', 'mixed', 'comm'])"
      ]
    },
    {
      "cell_type": "code",
      "execution_count": null,
      "metadata": {
        "id": "mV-ZUmJWFa7s"
      },
      "outputs": [],
      "source": [
        "# groupby zipcode and landuse category\n",
        "land = tax_lot_filter.groupby(['zipcode', 'landuse']).agg({'lotarea':'sum'}).reset_index()"
      ]
    },
    {
      "cell_type": "code",
      "execution_count": null,
      "metadata": {
        "id": "NmV4pD6bFa7s"
      },
      "outputs": [],
      "source": [
        "# pivot to get landuse categories as columns\n",
        "land_pivot = pd.pivot_table(land, index=['zipcode'], columns='landuse', values='lotarea', fill_value = 0).reset_index()"
      ]
    },
    {
      "cell_type": "code",
      "execution_count": null,
      "metadata": {
        "id": "ZX4YYjEsFa7s"
      },
      "outputs": [],
      "source": [
        "# remove zipcodes outside of NYC\n",
        "land_fil = land_pivot[(land_pivot['zipcode'] >= 10001) & (land_pivot['zipcode'] <= 11697)]"
      ]
    },
    {
      "cell_type": "code",
      "execution_count": null,
      "metadata": {
        "id": "HMnRyANFFa7s"
      },
      "outputs": [],
      "source": [
        "# read zipcode area file so that landuse can be normalized\n",
        "zips = gpd.read_file('ZIP_CODE_040114.shp')\n",
        "zips['ZIPCODE'] = zips['ZIPCODE'].astype(int)\n",
        "zips_sel = zips[['ZIPCODE', 'POPULATION', 'AREA']]"
      ]
    },
    {
      "cell_type": "code",
      "execution_count": null,
      "metadata": {
        "id": "WJqrUHvzFa7t"
      },
      "outputs": [],
      "source": [
        "# merge zipcode area and landuse files\n",
        "zips_land = zips_sel.merge(land_fil, left_on = 'ZIPCODE', right_on = 'zipcode', how = 'left')"
      ]
    },
    {
      "cell_type": "code",
      "execution_count": null,
      "metadata": {
        "id": "uf2kOxodFa7t"
      },
      "outputs": [],
      "source": [
        "# normalize landuse columns with zipcode areas\n",
        "zips_land['comm_percent'] = zips_land['comm'] / zips_land['AREA']\n",
        "zips_land['mixed_percent'] = zips_land['mixed'] / zips_land['AREA']\n",
        "zips_land['res_percent'] = zips_land['res'] / zips_land['AREA']"
      ]
    },
    {
      "cell_type": "code",
      "execution_count": null,
      "metadata": {
        "id": "5cRIo3I4Fa7t"
      },
      "outputs": [],
      "source": [
        "# keep only necessary columns\n",
        "landuse = zips_land[['ZIPCODE', 'comm_percent', 'mixed_percent', 'res_percent']]"
      ]
    },
    {
      "cell_type": "code",
      "execution_count": null,
      "metadata": {
        "id": "Rna36knQFa7t",
        "outputId": "436d720a-a4f0-488a-93c6-2ca32d6eb932"
      },
      "outputs": [
        {
          "data": {
            "text/html": [
              "<div>\n",
              "<style scoped>\n",
              "    .dataframe tbody tr th:only-of-type {\n",
              "        vertical-align: middle;\n",
              "    }\n",
              "\n",
              "    .dataframe tbody tr th {\n",
              "        vertical-align: top;\n",
              "    }\n",
              "\n",
              "    .dataframe thead th {\n",
              "        text-align: right;\n",
              "    }\n",
              "</style>\n",
              "<table border=\"1\" class=\"dataframe\">\n",
              "  <thead>\n",
              "    <tr style=\"text-align: right;\">\n",
              "      <th></th>\n",
              "      <th>ZIPCODE</th>\n",
              "      <th>comm_percent</th>\n",
              "      <th>mixed_percent</th>\n",
              "      <th>res_percent</th>\n",
              "    </tr>\n",
              "  </thead>\n",
              "  <tbody>\n",
              "    <tr>\n",
              "      <th>0</th>\n",
              "      <td>83</td>\n",
              "      <td>0.000000</td>\n",
              "      <td>0.000000</td>\n",
              "      <td>0.000000</td>\n",
              "    </tr>\n",
              "    <tr>\n",
              "      <th>1</th>\n",
              "      <td>10001</td>\n",
              "      <td>0.243263</td>\n",
              "      <td>0.087850</td>\n",
              "      <td>0.105132</td>\n",
              "    </tr>\n",
              "    <tr>\n",
              "      <th>2</th>\n",
              "      <td>10002</td>\n",
              "      <td>0.028694</td>\n",
              "      <td>0.144407</td>\n",
              "      <td>0.202177</td>\n",
              "    </tr>\n",
              "    <tr>\n",
              "      <th>3</th>\n",
              "      <td>10003</td>\n",
              "      <td>0.099431</td>\n",
              "      <td>0.176313</td>\n",
              "      <td>0.189146</td>\n",
              "    </tr>\n",
              "    <tr>\n",
              "      <th>4</th>\n",
              "      <td>10004</td>\n",
              "      <td>3.496761</td>\n",
              "      <td>0.936524</td>\n",
              "      <td>0.040107</td>\n",
              "    </tr>\n",
              "  </tbody>\n",
              "</table>\n",
              "</div>"
            ],
            "text/plain": [
              "   ZIPCODE  comm_percent  mixed_percent  res_percent\n",
              "0       83      0.000000       0.000000     0.000000\n",
              "1    10001      0.243263       0.087850     0.105132\n",
              "2    10002      0.028694       0.144407     0.202177\n",
              "3    10003      0.099431       0.176313     0.189146\n",
              "4    10004      3.496761       0.936524     0.040107"
            ]
          },
          "execution_count": 54,
          "metadata": {},
          "output_type": "execute_result"
        }
      ],
      "source": [
        "# aggregate by zipcode\n",
        "landuse1 = landuse.groupby(['ZIPCODE']).agg({'comm_percent':'sum', 'mixed_percent':'sum', 'res_percent':'sum'}).reset_index()\n",
        "landuse1.head()"
      ]
    },
    {
      "cell_type": "markdown",
      "metadata": {
        "id": "_BynS_K1Fa7t"
      },
      "source": [
        "#### III. Car + EV Registration"
      ]
    },
    {
      "cell_type": "code",
      "execution_count": null,
      "metadata": {
        "id": "XqSlB8-VFa7t"
      },
      "outputs": [],
      "source": [
        "data_CO = pd.read_csv('Vehicle__Snowmobile__and_Boat_Registrations.csv')"
      ]
    },
    {
      "cell_type": "code",
      "execution_count": null,
      "metadata": {
        "id": "VLfqx6WWFa7u"
      },
      "outputs": [],
      "source": [
        "# keep only selected vehicles and counties\n",
        "bodytype_list= ['CONV','SEDN','4DSD','2DSD ','SUBN','MCY', 'FLAT','PICK','LIM','TAXI','MOPD','AMBU'] #filtering the private vehicles only for further analysis (cars only)\n",
        "data_CO = data_CO[data_CO['Body Type'].isin(bodytype_list)]\n",
        "county_list = ['NEW YORK', 'BRONX', 'KINGS', 'QUEENS', 'RICHMOND']\n",
        "data_CO = data_CO[data_CO['County'].isin(county_list)]"
      ]
    },
    {
      "cell_type": "code",
      "execution_count": null,
      "metadata": {
        "id": "pDppRduhFa7u"
      },
      "outputs": [],
      "source": [
        "# converting registration and expiry date columns to datetime types\n",
        "data_CO['Reg Valid Date'] = pd.to_datetime(data_CO['Reg Valid Date']) \n",
        "data_CO['Reg Expiration Date'] = pd.to_datetime(data_CO['Reg Expiration Date'])"
      ]
    },
    {
      "cell_type": "code",
      "execution_count": null,
      "metadata": {
        "id": "5kTcvq0aFa7u"
      },
      "outputs": [],
      "source": [
        "# extracting registration month and year\n",
        "data_CO['Month'] = data_CO['Reg Valid Date'].dt.month\n",
        "data_CO['Year'] = data_CO['Reg Valid Date'].dt.year"
      ]
    },
    {
      "cell_type": "code",
      "execution_count": null,
      "metadata": {
        "id": "2gpO6tO9Fa7u"
      },
      "outputs": [],
      "source": [
        "# filtering by registration years\n",
        "data_CO = data_CO[data_CO['Year'] >=2014]\n",
        "data_CO = data_CO[data_CO['Year'] < 2019]"
      ]
    },
    {
      "cell_type": "code",
      "execution_count": null,
      "metadata": {
        "id": "Ioi8qMy7Fa7u"
      },
      "outputs": [],
      "source": [
        "# removes zipcodes outside NYC\n",
        "data_zip = data_CO[(data_CO['Zip'] >= 10001) & (data_CO['Zip'] <= 11697)]"
      ]
    },
    {
      "cell_type": "code",
      "execution_count": null,
      "metadata": {
        "id": "cS7jbksFFa7u"
      },
      "outputs": [],
      "source": [
        "# keep only selected columns\n",
        "data_sel = data_zip[['Zip', 'Year']]"
      ]
    },
    {
      "cell_type": "code",
      "execution_count": null,
      "metadata": {
        "id": "s2RVXv24Fa7v",
        "outputId": "ba9f60e2-1832-4547-8d58-3d3de976f915"
      },
      "outputs": [
        {
          "data": {
            "text/html": [
              "<div>\n",
              "<style scoped>\n",
              "    .dataframe tbody tr th:only-of-type {\n",
              "        vertical-align: middle;\n",
              "    }\n",
              "\n",
              "    .dataframe tbody tr th {\n",
              "        vertical-align: top;\n",
              "    }\n",
              "\n",
              "    .dataframe thead th {\n",
              "        text-align: right;\n",
              "    }\n",
              "</style>\n",
              "<table border=\"1\" class=\"dataframe\">\n",
              "  <thead>\n",
              "    <tr style=\"text-align: right;\">\n",
              "      <th></th>\n",
              "      <th>Zip</th>\n",
              "      <th>Reg_count</th>\n",
              "    </tr>\n",
              "  </thead>\n",
              "  <tbody>\n",
              "    <tr>\n",
              "      <th>0</th>\n",
              "      <td>10001</td>\n",
              "      <td>12</td>\n",
              "    </tr>\n",
              "    <tr>\n",
              "      <th>1</th>\n",
              "      <td>10002</td>\n",
              "      <td>4</td>\n",
              "    </tr>\n",
              "    <tr>\n",
              "      <th>2</th>\n",
              "      <td>10003</td>\n",
              "      <td>429</td>\n",
              "    </tr>\n",
              "    <tr>\n",
              "      <th>3</th>\n",
              "      <td>10004</td>\n",
              "      <td>281</td>\n",
              "    </tr>\n",
              "    <tr>\n",
              "      <th>4</th>\n",
              "      <td>10006</td>\n",
              "      <td>33</td>\n",
              "    </tr>\n",
              "  </tbody>\n",
              "</table>\n",
              "</div>"
            ],
            "text/plain": [
              "     Zip  Reg_count\n",
              "0  10001         12\n",
              "1  10002          4\n",
              "2  10003        429\n",
              "3  10004        281\n",
              "4  10006         33"
            ]
          },
          "execution_count": 62,
          "metadata": {},
          "output_type": "execute_result"
        }
      ],
      "source": [
        "# aggregate regigstrations by zipcode\n",
        "data_grp = data_sel.groupby(['Zip']).agg({'Year':'count'}).reset_index()\n",
        "data_grp.rename(columns = {'Year':'Reg_count'}, inplace = True)\n",
        "data_grp.head()"
      ]
    },
    {
      "cell_type": "code",
      "execution_count": null,
      "metadata": {
        "id": "IqRwmg1JFa7v"
      },
      "outputs": [],
      "source": [
        "ev_reg = pd.read_csv('EV-Registration-Tables.csv', encoding = 'UTF-8')"
      ]
    },
    {
      "cell_type": "code",
      "execution_count": null,
      "metadata": {
        "id": "4oEkMQB1Fa7v"
      },
      "outputs": [],
      "source": [
        "# keep only selected columns\n",
        "ev_reg = ev_reg[['ZIP Code', 'Registration Valid Date']]"
      ]
    },
    {
      "cell_type": "code",
      "execution_count": null,
      "metadata": {
        "id": "NHUYiCaeFa7v"
      },
      "outputs": [],
      "source": [
        "# converting registration and expiry date columns to datetime types\n",
        "ev_reg['Registration Valid Date'] = pd.to_datetime(ev_reg['Registration Valid Date']) "
      ]
    },
    {
      "cell_type": "code",
      "execution_count": null,
      "metadata": {
        "id": "9_8d0-DOFa7v"
      },
      "outputs": [],
      "source": [
        "# extracting registration month and year\n",
        "ev_reg['EV Reg Month'] = ev_reg['Registration Valid Date'].dt.month\n",
        "ev_reg['EV Reg Year'] = ev_reg['Registration Valid Date'].dt.year"
      ]
    },
    {
      "cell_type": "code",
      "execution_count": null,
      "metadata": {
        "id": "wecFDnSNFa7v"
      },
      "outputs": [],
      "source": [
        "# keeping only NYC zipcodes\n",
        "ev_reg_zip = ev_reg[(ev_reg['ZIP Code'] >= 10001) & (ev_reg['ZIP Code'] <= 11697)]\n",
        "ev_reg_zip = ev_reg_zip.reset_index(drop = True)"
      ]
    },
    {
      "cell_type": "code",
      "execution_count": null,
      "metadata": {
        "id": "kha53dV4Fa7w"
      },
      "outputs": [],
      "source": [
        "# keeping registrations before 2019\n",
        "ev_reg_year = ev_reg_zip[(ev_reg_zip['EV Reg Year'] < 2019)].reset_index(drop = True)"
      ]
    },
    {
      "cell_type": "code",
      "execution_count": null,
      "metadata": {
        "id": "WHvScfmFFa7w",
        "outputId": "c36444b7-27c5-4e65-b94e-2d360f1fa6ca"
      },
      "outputs": [
        {
          "data": {
            "text/html": [
              "<div>\n",
              "<style scoped>\n",
              "    .dataframe tbody tr th:only-of-type {\n",
              "        vertical-align: middle;\n",
              "    }\n",
              "\n",
              "    .dataframe tbody tr th {\n",
              "        vertical-align: top;\n",
              "    }\n",
              "\n",
              "    .dataframe thead th {\n",
              "        text-align: right;\n",
              "    }\n",
              "</style>\n",
              "<table border=\"1\" class=\"dataframe\">\n",
              "  <thead>\n",
              "    <tr style=\"text-align: right;\">\n",
              "      <th></th>\n",
              "      <th>ZIP Code</th>\n",
              "      <th>Reg_count</th>\n",
              "    </tr>\n",
              "  </thead>\n",
              "  <tbody>\n",
              "    <tr>\n",
              "      <th>0</th>\n",
              "      <td>10001</td>\n",
              "      <td>1467</td>\n",
              "    </tr>\n",
              "    <tr>\n",
              "      <th>1</th>\n",
              "      <td>10002</td>\n",
              "      <td>865</td>\n",
              "    </tr>\n",
              "    <tr>\n",
              "      <th>2</th>\n",
              "      <td>10003</td>\n",
              "      <td>2089</td>\n",
              "    </tr>\n",
              "    <tr>\n",
              "      <th>3</th>\n",
              "      <td>10004</td>\n",
              "      <td>2263</td>\n",
              "    </tr>\n",
              "    <tr>\n",
              "      <th>4</th>\n",
              "      <td>10005</td>\n",
              "      <td>317</td>\n",
              "    </tr>\n",
              "  </tbody>\n",
              "</table>\n",
              "</div>"
            ],
            "text/plain": [
              "   ZIP Code  Reg_count\n",
              "0     10001       1467\n",
              "1     10002        865\n",
              "2     10003       2089\n",
              "3     10004       2263\n",
              "4     10005        317"
            ]
          },
          "execution_count": 69,
          "metadata": {},
          "output_type": "execute_result"
        }
      ],
      "source": [
        "# aggregate registrations by zipcode\n",
        "ev_reg_zip = ev_reg_year.groupby(['ZIP Code']).agg({'EV Reg Year':'count'}).reset_index()\n",
        "ev_reg_zip.rename(columns = {'EV Reg Year':'Reg_count'}, inplace = True)\n",
        "ev_reg_zip.head()"
      ]
    },
    {
      "cell_type": "code",
      "execution_count": null,
      "metadata": {
        "id": "1CCkgJKrFa7w"
      },
      "outputs": [],
      "source": [
        "# merging car and ev dfs\n",
        "car_ev = data_grp.merge(ev_reg_zip, left_on = 'Zip', right_on = 'ZIP Code', how = 'outer')\n",
        "car_ev.rename(columns = {'Reg_count_x':'car_count', 'Reg_count_y':'ev_count'}, inplace = True)\n",
        "car_ev = car_ev[['ZIP Code', 'car_count', 'ev_count']]\n",
        "car_ev['total_car_ev_count'] = car_ev['car_count'] + car_ev['ev_count']\n",
        "car_ev = car_ev.fillna(0)"
      ]
    },
    {
      "cell_type": "code",
      "execution_count": null,
      "metadata": {
        "id": "k8NsOVf-Fa7x"
      },
      "outputs": [],
      "source": [
        "# merge with zipcode area file for normalization\n",
        "zip_evcar = zips_sel.merge(car_ev, left_on = 'ZIPCODE', right_on = 'ZIP Code', how = 'left')\n",
        "zip_evcar_sel = zip_evcar[['ZIPCODE', 'total_car_ev_count', 'POPULATION']]\n",
        "zip_evcar_sel = zip_evcar_sel.fillna(0)"
      ]
    },
    {
      "cell_type": "code",
      "execution_count": null,
      "metadata": {
        "id": "2D4WUMDNFa7x"
      },
      "outputs": [],
      "source": [
        "# normalize ev and car count by population\n",
        "zip_evcar_sel['norm_car_ev_count'] = zip_evcar_sel['total_car_ev_count'] / zip_evcar_sel['POPULATION']\n",
        "zip_evcar_sel = zip_evcar_sel[['ZIPCODE', 'norm_car_ev_count', 'POPULATION']]"
      ]
    },
    {
      "cell_type": "code",
      "execution_count": null,
      "metadata": {
        "id": "Vo7XhpprFa7x",
        "outputId": "63c59415-bdd3-483b-ef59-a78129bcdb46"
      },
      "outputs": [
        {
          "data": {
            "text/html": [
              "<div>\n",
              "<style scoped>\n",
              "    .dataframe tbody tr th:only-of-type {\n",
              "        vertical-align: middle;\n",
              "    }\n",
              "\n",
              "    .dataframe tbody tr th {\n",
              "        vertical-align: top;\n",
              "    }\n",
              "\n",
              "    .dataframe thead th {\n",
              "        text-align: right;\n",
              "    }\n",
              "</style>\n",
              "<table border=\"1\" class=\"dataframe\">\n",
              "  <thead>\n",
              "    <tr style=\"text-align: right;\">\n",
              "      <th></th>\n",
              "      <th>ZIPCODE</th>\n",
              "      <th>norm_car_ev_count</th>\n",
              "    </tr>\n",
              "  </thead>\n",
              "  <tbody>\n",
              "    <tr>\n",
              "      <th>0</th>\n",
              "      <td>83</td>\n",
              "      <td>0.000000</td>\n",
              "    </tr>\n",
              "    <tr>\n",
              "      <th>1</th>\n",
              "      <td>10001</td>\n",
              "      <td>0.065988</td>\n",
              "    </tr>\n",
              "    <tr>\n",
              "      <th>2</th>\n",
              "      <td>10002</td>\n",
              "      <td>0.010688</td>\n",
              "    </tr>\n",
              "    <tr>\n",
              "      <th>3</th>\n",
              "      <td>10003</td>\n",
              "      <td>0.045062</td>\n",
              "    </tr>\n",
              "    <tr>\n",
              "      <th>4</th>\n",
              "      <td>10004</td>\n",
              "      <td>1.163237</td>\n",
              "    </tr>\n",
              "  </tbody>\n",
              "</table>\n",
              "</div>"
            ],
            "text/plain": [
              "   ZIPCODE  norm_car_ev_count\n",
              "0       83           0.000000\n",
              "1    10001           0.065988\n",
              "2    10002           0.010688\n",
              "3    10003           0.045062\n",
              "4    10004           1.163237"
            ]
          },
          "execution_count": 73,
          "metadata": {},
          "output_type": "execute_result"
        }
      ],
      "source": [
        "# aggregate counts by zipcode\n",
        "vehicles = zip_evcar_sel.groupby(['ZIPCODE']).agg({'norm_car_ev_count':'mean'}).reset_index()\n",
        "vehicles.head()"
      ]
    },
    {
      "cell_type": "markdown",
      "metadata": {
        "id": "4sJT8iUDFa7y"
      },
      "source": [
        "#### IV. Merging Spatial Dataframes"
      ]
    },
    {
      "cell_type": "code",
      "execution_count": null,
      "metadata": {
        "id": "MzaQMjRoFa7y",
        "outputId": "bc3e8e74-b258-425a-debc-3c79a94a8532"
      },
      "outputs": [
        {
          "data": {
            "text/html": [
              "<div>\n",
              "<style scoped>\n",
              "    .dataframe tbody tr th:only-of-type {\n",
              "        vertical-align: middle;\n",
              "    }\n",
              "\n",
              "    .dataframe tbody tr th {\n",
              "        vertical-align: top;\n",
              "    }\n",
              "\n",
              "    .dataframe thead th {\n",
              "        text-align: right;\n",
              "    }\n",
              "</style>\n",
              "<table border=\"1\" class=\"dataframe\">\n",
              "  <thead>\n",
              "    <tr style=\"text-align: right;\">\n",
              "      <th></th>\n",
              "      <th>ZIPCODE</th>\n",
              "      <th>comm_percent</th>\n",
              "      <th>mixed_percent</th>\n",
              "      <th>res_percent</th>\n",
              "      <th>bus</th>\n",
              "      <th>subway</th>\n",
              "      <th>citybike</th>\n",
              "      <th>norm_car_ev_count</th>\n",
              "    </tr>\n",
              "  </thead>\n",
              "  <tbody>\n",
              "    <tr>\n",
              "      <th>0</th>\n",
              "      <td>83</td>\n",
              "      <td>0.000000</td>\n",
              "      <td>0.000000</td>\n",
              "      <td>0.000000</td>\n",
              "      <td>57.00</td>\n",
              "      <td>6.00</td>\n",
              "      <td>13.00</td>\n",
              "      <td>0.000000</td>\n",
              "    </tr>\n",
              "    <tr>\n",
              "      <th>1</th>\n",
              "      <td>10001</td>\n",
              "      <td>0.243263</td>\n",
              "      <td>0.087850</td>\n",
              "      <td>0.105132</td>\n",
              "      <td>53.00</td>\n",
              "      <td>7.00</td>\n",
              "      <td>15.00</td>\n",
              "      <td>0.065988</td>\n",
              "    </tr>\n",
              "    <tr>\n",
              "      <th>2</th>\n",
              "      <td>10002</td>\n",
              "      <td>0.028694</td>\n",
              "      <td>0.144407</td>\n",
              "      <td>0.202177</td>\n",
              "      <td>81.00</td>\n",
              "      <td>5.00</td>\n",
              "      <td>24.00</td>\n",
              "      <td>0.010688</td>\n",
              "    </tr>\n",
              "    <tr>\n",
              "      <th>3</th>\n",
              "      <td>10003</td>\n",
              "      <td>0.099431</td>\n",
              "      <td>0.176313</td>\n",
              "      <td>0.189146</td>\n",
              "      <td>55.00</td>\n",
              "      <td>7.00</td>\n",
              "      <td>23.00</td>\n",
              "      <td>0.045062</td>\n",
              "    </tr>\n",
              "    <tr>\n",
              "      <th>4</th>\n",
              "      <td>10004</td>\n",
              "      <td>3.496761</td>\n",
              "      <td>0.936524</td>\n",
              "      <td>0.040107</td>\n",
              "      <td>3.25</td>\n",
              "      <td>0.75</td>\n",
              "      <td>8.75</td>\n",
              "      <td>1.163237</td>\n",
              "    </tr>\n",
              "  </tbody>\n",
              "</table>\n",
              "</div>"
            ],
            "text/plain": [
              "   ZIPCODE  comm_percent  mixed_percent  res_percent    bus  subway  citybike  \\\n",
              "0       83      0.000000       0.000000     0.000000  57.00    6.00     13.00   \n",
              "1    10001      0.243263       0.087850     0.105132  53.00    7.00     15.00   \n",
              "2    10002      0.028694       0.144407     0.202177  81.00    5.00     24.00   \n",
              "3    10003      0.099431       0.176313     0.189146  55.00    7.00     23.00   \n",
              "4    10004      3.496761       0.936524     0.040107   3.25    0.75      8.75   \n",
              "\n",
              "   norm_car_ev_count  \n",
              "0           0.000000  \n",
              "1           0.065988  \n",
              "2           0.010688  \n",
              "3           0.045062  \n",
              "4           1.163237  "
            ]
          },
          "execution_count": 74,
          "metadata": {},
          "output_type": "execute_result"
        }
      ],
      "source": [
        "temp1 = landuse1.merge(trans1, left_on = 'ZIPCODE', right_on = 'ZIPCODE', how = 'left')\n",
        "df_spatial = temp1.merge(vehicles, left_on = 'ZIPCODE', right_on = 'ZIPCODE', how = 'left')\n",
        "df_spatial.head()"
      ]
    },
    {
      "cell_type": "code",
      "execution_count": null,
      "metadata": {
        "id": "lv2RAzXwFa7y",
        "outputId": "163453d6-0c03-4aea-b04e-57f023cdbab3"
      },
      "outputs": [
        {
          "name": "stdout",
          "output_type": "stream",
          "text": [
            "<class 'pandas.core.frame.DataFrame'>\n",
            "Int64Index: 248 entries, 0 to 247\n",
            "Data columns (total 8 columns):\n",
            " #   Column             Non-Null Count  Dtype  \n",
            "---  ------             --------------  -----  \n",
            " 0   ZIPCODE            248 non-null    int64  \n",
            " 1   comm_percent       248 non-null    float64\n",
            " 2   mixed_percent      248 non-null    float64\n",
            " 3   res_percent        248 non-null    float64\n",
            " 4   bus                248 non-null    float64\n",
            " 5   subway             248 non-null    float64\n",
            " 6   citybike           248 non-null    float64\n",
            " 7   norm_car_ev_count  189 non-null    float64\n",
            "dtypes: float64(7), int64(1)\n",
            "memory usage: 17.4 KB\n"
          ]
        }
      ],
      "source": [
        "df_spatial.info()"
      ]
    },
    {
      "cell_type": "code",
      "execution_count": null,
      "metadata": {
        "id": "i0SVQLm7Fa7z",
        "outputId": "bdbb6ea0-1eb0-4d5b-d315-518a7db7f00b"
      },
      "outputs": [
        {
          "data": {
            "text/html": [
              "<div>\n",
              "<style scoped>\n",
              "    .dataframe tbody tr th:only-of-type {\n",
              "        vertical-align: middle;\n",
              "    }\n",
              "\n",
              "    .dataframe tbody tr th {\n",
              "        vertical-align: top;\n",
              "    }\n",
              "\n",
              "    .dataframe thead th {\n",
              "        text-align: right;\n",
              "    }\n",
              "</style>\n",
              "<table border=\"1\" class=\"dataframe\">\n",
              "  <thead>\n",
              "    <tr style=\"text-align: right;\">\n",
              "      <th></th>\n",
              "      <th>ZIPCODE</th>\n",
              "      <th>comm_percent</th>\n",
              "      <th>mixed_percent</th>\n",
              "      <th>res_percent</th>\n",
              "      <th>bus</th>\n",
              "      <th>subway</th>\n",
              "      <th>citybike</th>\n",
              "      <th>norm_car_ev_count</th>\n",
              "    </tr>\n",
              "  </thead>\n",
              "  <tbody>\n",
              "    <tr>\n",
              "      <th>0</th>\n",
              "      <td>83</td>\n",
              "      <td>0.000000</td>\n",
              "      <td>0.000000</td>\n",
              "      <td>0.000000</td>\n",
              "      <td>57.00</td>\n",
              "      <td>6.00</td>\n",
              "      <td>13.00</td>\n",
              "      <td>0.000000</td>\n",
              "    </tr>\n",
              "    <tr>\n",
              "      <th>1</th>\n",
              "      <td>10001</td>\n",
              "      <td>0.243263</td>\n",
              "      <td>0.087850</td>\n",
              "      <td>0.105132</td>\n",
              "      <td>53.00</td>\n",
              "      <td>7.00</td>\n",
              "      <td>15.00</td>\n",
              "      <td>0.065988</td>\n",
              "    </tr>\n",
              "    <tr>\n",
              "      <th>2</th>\n",
              "      <td>10002</td>\n",
              "      <td>0.028694</td>\n",
              "      <td>0.144407</td>\n",
              "      <td>0.202177</td>\n",
              "      <td>81.00</td>\n",
              "      <td>5.00</td>\n",
              "      <td>24.00</td>\n",
              "      <td>0.010688</td>\n",
              "    </tr>\n",
              "    <tr>\n",
              "      <th>3</th>\n",
              "      <td>10003</td>\n",
              "      <td>0.099431</td>\n",
              "      <td>0.176313</td>\n",
              "      <td>0.189146</td>\n",
              "      <td>55.00</td>\n",
              "      <td>7.00</td>\n",
              "      <td>23.00</td>\n",
              "      <td>0.045062</td>\n",
              "    </tr>\n",
              "    <tr>\n",
              "      <th>4</th>\n",
              "      <td>10004</td>\n",
              "      <td>3.496761</td>\n",
              "      <td>0.936524</td>\n",
              "      <td>0.040107</td>\n",
              "      <td>3.25</td>\n",
              "      <td>0.75</td>\n",
              "      <td>8.75</td>\n",
              "      <td>1.163237</td>\n",
              "    </tr>\n",
              "    <tr>\n",
              "      <th>...</th>\n",
              "      <td>...</td>\n",
              "      <td>...</td>\n",
              "      <td>...</td>\n",
              "      <td>...</td>\n",
              "      <td>...</td>\n",
              "      <td>...</td>\n",
              "      <td>...</td>\n",
              "      <td>...</td>\n",
              "    </tr>\n",
              "    <tr>\n",
              "      <th>243</th>\n",
              "      <td>11691</td>\n",
              "      <td>0.014003</td>\n",
              "      <td>0.014172</td>\n",
              "      <td>0.375800</td>\n",
              "      <td>58.00</td>\n",
              "      <td>4.00</td>\n",
              "      <td>0.00</td>\n",
              "      <td>0.000000</td>\n",
              "    </tr>\n",
              "    <tr>\n",
              "      <th>244</th>\n",
              "      <td>11692</td>\n",
              "      <td>0.016829</td>\n",
              "      <td>0.006533</td>\n",
              "      <td>0.413029</td>\n",
              "      <td>22.00</td>\n",
              "      <td>2.00</td>\n",
              "      <td>0.00</td>\n",
              "      <td>0.000000</td>\n",
              "    </tr>\n",
              "    <tr>\n",
              "      <th>245</th>\n",
              "      <td>11693</td>\n",
              "      <td>0.510342</td>\n",
              "      <td>0.165529</td>\n",
              "      <td>7.979180</td>\n",
              "      <td>7.50</td>\n",
              "      <td>0.50</td>\n",
              "      <td>0.00</td>\n",
              "      <td>0.023978</td>\n",
              "    </tr>\n",
              "    <tr>\n",
              "      <th>246</th>\n",
              "      <td>11694</td>\n",
              "      <td>0.018894</td>\n",
              "      <td>0.007904</td>\n",
              "      <td>0.352812</td>\n",
              "      <td>72.00</td>\n",
              "      <td>3.00</td>\n",
              "      <td>0.00</td>\n",
              "      <td>0.000000</td>\n",
              "    </tr>\n",
              "    <tr>\n",
              "      <th>247</th>\n",
              "      <td>11697</td>\n",
              "      <td>0.000000</td>\n",
              "      <td>0.000000</td>\n",
              "      <td>0.280468</td>\n",
              "      <td>2.00</td>\n",
              "      <td>0.00</td>\n",
              "      <td>0.00</td>\n",
              "      <td>0.040206</td>\n",
              "    </tr>\n",
              "  </tbody>\n",
              "</table>\n",
              "<p>248 rows × 8 columns</p>\n",
              "</div>"
            ],
            "text/plain": [
              "     ZIPCODE  comm_percent  mixed_percent  res_percent    bus  subway  \\\n",
              "0         83      0.000000       0.000000     0.000000  57.00    6.00   \n",
              "1      10001      0.243263       0.087850     0.105132  53.00    7.00   \n",
              "2      10002      0.028694       0.144407     0.202177  81.00    5.00   \n",
              "3      10003      0.099431       0.176313     0.189146  55.00    7.00   \n",
              "4      10004      3.496761       0.936524     0.040107   3.25    0.75   \n",
              "..       ...           ...            ...          ...    ...     ...   \n",
              "243    11691      0.014003       0.014172     0.375800  58.00    4.00   \n",
              "244    11692      0.016829       0.006533     0.413029  22.00    2.00   \n",
              "245    11693      0.510342       0.165529     7.979180   7.50    0.50   \n",
              "246    11694      0.018894       0.007904     0.352812  72.00    3.00   \n",
              "247    11697      0.000000       0.000000     0.280468   2.00    0.00   \n",
              "\n",
              "     citybike  norm_car_ev_count  \n",
              "0       13.00           0.000000  \n",
              "1       15.00           0.065988  \n",
              "2       24.00           0.010688  \n",
              "3       23.00           0.045062  \n",
              "4        8.75           1.163237  \n",
              "..        ...                ...  \n",
              "243      0.00           0.000000  \n",
              "244      0.00           0.000000  \n",
              "245      0.00           0.023978  \n",
              "246      0.00           0.000000  \n",
              "247      0.00           0.040206  \n",
              "\n",
              "[248 rows x 8 columns]"
            ]
          },
          "execution_count": 76,
          "metadata": {},
          "output_type": "execute_result"
        }
      ],
      "source": [
        "# use 0s for missing values in normalized car and electric vehicles count\n",
        "df_spatial.fillna(0)"
      ]
    },
    {
      "cell_type": "markdown",
      "metadata": {
        "id": "o6wBtGzyFa7z"
      },
      "source": [
        "### c. Merging with Spatial Variables"
      ]
    },
    {
      "cell_type": "code",
      "execution_count": null,
      "metadata": {
        "id": "me2Hza7jFa7z"
      },
      "outputs": [],
      "source": [
        "df_personid = df_personid.reset_index()"
      ]
    },
    {
      "cell_type": "code",
      "execution_count": null,
      "metadata": {
        "id": "V_dJBxaBFa7z",
        "outputId": "7eb4bbeb-75ac-449b-fe80-8c757e423f5c"
      },
      "outputs": [
        {
          "data": {
            "text/html": [
              "<div>\n",
              "<style scoped>\n",
              "    .dataframe tbody tr th:only-of-type {\n",
              "        vertical-align: middle;\n",
              "    }\n",
              "\n",
              "    .dataframe tbody tr th {\n",
              "        vertical-align: top;\n",
              "    }\n",
              "\n",
              "    .dataframe thead th {\n",
              "        text-align: right;\n",
              "    }\n",
              "</style>\n",
              "<table border=\"1\" class=\"dataframe\">\n",
              "  <thead>\n",
              "    <tr style=\"text-align: right;\">\n",
              "      <th></th>\n",
              "      <th>personid</th>\n",
              "      <th>hh_group</th>\n",
              "      <th>sample_group</th>\n",
              "      <th>dest_type</th>\n",
              "      <th>orig_type</th>\n",
              "      <th>tour_purpose</th>\n",
              "      <th>departure_hour</th>\n",
              "      <th>orig_bg</th>\n",
              "      <th>dest_bg</th>\n",
              "      <th>distance</th>\n",
              "      <th>...</th>\n",
              "      <th>home_postal_code</th>\n",
              "      <th>preferred mode</th>\n",
              "      <th>ZIPCODE</th>\n",
              "      <th>comm_percent</th>\n",
              "      <th>mixed_percent</th>\n",
              "      <th>res_percent</th>\n",
              "      <th>bus</th>\n",
              "      <th>subway</th>\n",
              "      <th>citybike</th>\n",
              "      <th>norm_car_ev_count</th>\n",
              "    </tr>\n",
              "  </thead>\n",
              "  <tbody>\n",
              "    <tr>\n",
              "      <th>0</th>\n",
              "      <td>2201</td>\n",
              "      <td>rMove</td>\n",
              "      <td>Postcard</td>\n",
              "      <td>Home</td>\n",
              "      <td>Home</td>\n",
              "      <td>Work</td>\n",
              "      <td>13.315789</td>\n",
              "      <td>3.608100e+11</td>\n",
              "      <td>3.608100e+11</td>\n",
              "      <td>1.210038</td>\n",
              "      <td>...</td>\n",
              "      <td>11101.0</td>\n",
              "      <td>Walk/Bike</td>\n",
              "      <td>11101</td>\n",
              "      <td>0.085527</td>\n",
              "      <td>0.041913</td>\n",
              "      <td>0.05536</td>\n",
              "      <td>181.0</td>\n",
              "      <td>12.0</td>\n",
              "      <td>13.0</td>\n",
              "      <td>0.544336</td>\n",
              "    </tr>\n",
              "    <tr>\n",
              "      <th>1</th>\n",
              "      <td>5302</td>\n",
              "      <td>rSurvey</td>\n",
              "      <td>Postcard</td>\n",
              "      <td>Home</td>\n",
              "      <td>Home</td>\n",
              "      <td>K-12 School or daycare</td>\n",
              "      <td>12.000000</td>\n",
              "      <td>3.608102e+11</td>\n",
              "      <td>3.608102e+11</td>\n",
              "      <td>0.310686</td>\n",
              "      <td>...</td>\n",
              "      <td>11101.0</td>\n",
              "      <td>Walk/Bike</td>\n",
              "      <td>11101</td>\n",
              "      <td>0.085527</td>\n",
              "      <td>0.041913</td>\n",
              "      <td>0.05536</td>\n",
              "      <td>181.0</td>\n",
              "      <td>12.0</td>\n",
              "      <td>13.0</td>\n",
              "      <td>0.544336</td>\n",
              "    </tr>\n",
              "    <tr>\n",
              "      <th>2</th>\n",
              "      <td>8801</td>\n",
              "      <td>rSurvey</td>\n",
              "      <td>MTA email list</td>\n",
              "      <td>Home</td>\n",
              "      <td>Home</td>\n",
              "      <td>K-12 School or daycare</td>\n",
              "      <td>11.750000</td>\n",
              "      <td>3.608100e+11</td>\n",
              "      <td>3.608100e+11</td>\n",
              "      <td>0.932057</td>\n",
              "      <td>...</td>\n",
              "      <td>11101.0</td>\n",
              "      <td>Walk/Bike</td>\n",
              "      <td>11101</td>\n",
              "      <td>0.085527</td>\n",
              "      <td>0.041913</td>\n",
              "      <td>0.05536</td>\n",
              "      <td>181.0</td>\n",
              "      <td>12.0</td>\n",
              "      <td>13.0</td>\n",
              "      <td>0.544336</td>\n",
              "    </tr>\n",
              "    <tr>\n",
              "      <th>3</th>\n",
              "      <td>8802</td>\n",
              "      <td>rSurvey</td>\n",
              "      <td>MTA email list</td>\n",
              "      <td>Home</td>\n",
              "      <td>Home</td>\n",
              "      <td>K-12 School or daycare</td>\n",
              "      <td>11.750000</td>\n",
              "      <td>3.608100e+11</td>\n",
              "      <td>3.608100e+11</td>\n",
              "      <td>0.932057</td>\n",
              "      <td>...</td>\n",
              "      <td>11101.0</td>\n",
              "      <td>Walk/Bike</td>\n",
              "      <td>11101</td>\n",
              "      <td>0.085527</td>\n",
              "      <td>0.041913</td>\n",
              "      <td>0.05536</td>\n",
              "      <td>181.0</td>\n",
              "      <td>12.0</td>\n",
              "      <td>13.0</td>\n",
              "      <td>0.544336</td>\n",
              "    </tr>\n",
              "    <tr>\n",
              "      <th>4</th>\n",
              "      <td>8803</td>\n",
              "      <td>rSurvey</td>\n",
              "      <td>MTA email list</td>\n",
              "      <td>Home</td>\n",
              "      <td>Home</td>\n",
              "      <td>K-12 School or daycare</td>\n",
              "      <td>11.750000</td>\n",
              "      <td>3.608100e+11</td>\n",
              "      <td>3.608100e+11</td>\n",
              "      <td>0.932057</td>\n",
              "      <td>...</td>\n",
              "      <td>11101.0</td>\n",
              "      <td>Walk/Bike</td>\n",
              "      <td>11101</td>\n",
              "      <td>0.085527</td>\n",
              "      <td>0.041913</td>\n",
              "      <td>0.05536</td>\n",
              "      <td>181.0</td>\n",
              "      <td>12.0</td>\n",
              "      <td>13.0</td>\n",
              "      <td>0.544336</td>\n",
              "    </tr>\n",
              "  </tbody>\n",
              "</table>\n",
              "<p>5 rows × 47 columns</p>\n",
              "</div>"
            ],
            "text/plain": [
              "   personid hh_group    sample_group dest_type orig_type  \\\n",
              "0      2201    rMove        Postcard      Home      Home   \n",
              "1      5302  rSurvey        Postcard      Home      Home   \n",
              "2      8801  rSurvey  MTA email list      Home      Home   \n",
              "3      8802  rSurvey  MTA email list      Home      Home   \n",
              "4      8803  rSurvey  MTA email list      Home      Home   \n",
              "\n",
              "             tour_purpose  departure_hour       orig_bg       dest_bg  \\\n",
              "0                    Work       13.315789  3.608100e+11  3.608100e+11   \n",
              "1  K-12 School or daycare       12.000000  3.608102e+11  3.608102e+11   \n",
              "2  K-12 School or daycare       11.750000  3.608100e+11  3.608100e+11   \n",
              "3  K-12 School or daycare       11.750000  3.608100e+11  3.608100e+11   \n",
              "4  K-12 School or daycare       11.750000  3.608100e+11  3.608100e+11   \n",
              "\n",
              "   distance  ...  home_postal_code  preferred mode ZIPCODE  comm_percent  \\\n",
              "0  1.210038  ...           11101.0       Walk/Bike   11101      0.085527   \n",
              "1  0.310686  ...           11101.0       Walk/Bike   11101      0.085527   \n",
              "2  0.932057  ...           11101.0       Walk/Bike   11101      0.085527   \n",
              "3  0.932057  ...           11101.0       Walk/Bike   11101      0.085527   \n",
              "4  0.932057  ...           11101.0       Walk/Bike   11101      0.085527   \n",
              "\n",
              "   mixed_percent res_percent    bus  subway citybike norm_car_ev_count  \n",
              "0       0.041913     0.05536  181.0    12.0     13.0          0.544336  \n",
              "1       0.041913     0.05536  181.0    12.0     13.0          0.544336  \n",
              "2       0.041913     0.05536  181.0    12.0     13.0          0.544336  \n",
              "3       0.041913     0.05536  181.0    12.0     13.0          0.544336  \n",
              "4       0.041913     0.05536  181.0    12.0     13.0          0.544336  \n",
              "\n",
              "[5 rows x 47 columns]"
            ]
          },
          "execution_count": 78,
          "metadata": {},
          "output_type": "execute_result"
        }
      ],
      "source": [
        "# Merge the spatial variables with the zipcode dataframe\n",
        "df_personid = df_personid.merge(df_spatial, left_on=\"home_postal_code\", right_on=\"ZIPCODE\")\n",
        "df_personid.head()"
      ]
    },
    {
      "cell_type": "code",
      "execution_count": null,
      "metadata": {
        "id": "E1GqwJuiFa70",
        "outputId": "2f61e957-3461-4823-c010-16715f099f7a"
      },
      "outputs": [
        {
          "data": {
            "text/plain": [
              "(20022, 47)"
            ]
          },
          "execution_count": 79,
          "metadata": {},
          "output_type": "execute_result"
        }
      ],
      "source": [
        "df_personid.shape"
      ]
    },
    {
      "cell_type": "markdown",
      "metadata": {
        "id": "7bFSACRhFa70"
      },
      "source": [
        "## 2. Exploratory Analysis"
      ]
    },
    {
      "cell_type": "markdown",
      "metadata": {
        "id": "Tj0otQLWFa70"
      },
      "source": [
        "### a. PersonID Level"
      ]
    },
    {
      "cell_type": "code",
      "execution_count": null,
      "metadata": {
        "id": "234zbfJIFa70"
      },
      "outputs": [],
      "source": [
        "# Find the distribution for the preferred modes of transportation \n",
        "modes = df_personid.reset_index()\n",
        "modes = modes.groupby(['preferred mode']).agg({'personid':'count'}).reset_index()\n",
        "modes.rename(columns = {'personid' : 'count'}, inplace = True)\n",
        "modes['proportion'] = modes['count'] / modes['count'].sum()\n",
        "modes_sorted = modes.sort_values('proportion', ascending = False)"
      ]
    },
    {
      "cell_type": "code",
      "execution_count": null,
      "metadata": {
        "id": "VkG84Bn8Fa70",
        "outputId": "49fadbf2-a6e1-4a9d-ccea-3f9b1c6cfa8b"
      },
      "outputs": [
        {
          "data": {
            "text/plain": [
              "Text(0.5, 1.0, 'Travel Mode Count (sample size = 20032)')"
            ]
          },
          "execution_count": 81,
          "metadata": {},
          "output_type": "execute_result"
        },
        {
          "data": {
            "image/png": "[encoded data removed]",
            "text/plain": [
              "<Figure size 720x432 with 1 Axes>"
            ]
          },
          "metadata": {
            "needs_background": "light"
          },
          "output_type": "display_data"
        }
      ],
      "source": [
        "# By plotting them we can again see that only the 4 label categories  are significant\n",
        "modes_sorted.plot.bar(figsize = (10, 6), x = 'preferred mode', y = 'proportion', color = 'mediumaquamarine', alpha = 0.8, legend = False)\n",
        "plt.xlabel('Travel Modes', fontsize = 12)\n",
        "plt.ylabel('Count', fontsize = 12)\n",
        "plt.xticks(rotation = 90)\n",
        "plt.title('Travel Mode Count (sample size = 20032)', fontsize = 14)"
      ]
    },
    {
      "cell_type": "code",
      "execution_count": null,
      "metadata": {
        "id": "DQ5UdULLFa70"
      },
      "outputs": [],
      "source": [
        "# Mark all the less frequent categories as \"Other\"\n",
        "df_personid = df_personid.reset_index()\n",
        "travel_mode = ['Taxi, Car/Van Service, Black Car/Limo', 'TNC (Uber/Lyft)', 'Other Transit', 'Commuter Rail', 'Other Rail','Other']\n",
        "for i in range(len(df_personid)):\n",
        "    for j in travel_mode:\n",
        "        if df_personid['preferred mode'][i] == j:\n",
        "            df_personid['preferred mode'][i] = 'Other'"
      ]
    },
    {
      "cell_type": "code",
      "execution_count": null,
      "metadata": {
        "id": "O8ktSZKfFa71"
      },
      "outputs": [],
      "source": [
        "# Find the updated distribution for the preferred modes of transportation \n",
        "modes = df_personid.reset_index()\n",
        "modes = modes.groupby(['preferred mode']).agg({'personid':'count'}).reset_index()\n",
        "modes.rename(columns = {'personid' : 'count'}, inplace = True)\n",
        "modes['proportion'] = modes['count'] / modes['count'].sum()\n",
        "modes_sorted = modes.sort_values('proportion', ascending = False)"
      ]
    },
    {
      "cell_type": "code",
      "execution_count": null,
      "metadata": {
        "id": "jjOrgWY8Fa71",
        "outputId": "c2cbf605-21ca-4cef-e8df-1d3bca3438ed"
      },
      "outputs": [
        {
          "data": {
            "text/plain": [
              "Text(0.5, 1.0, 'Travel Mode Count (sample size = 20032)')"
            ]
          },
          "execution_count": 84,
          "metadata": {},
          "output_type": "execute_result"
        },
        {
          "data": {
            "image/png": "[encoded data removed]",
            "text/plain": [
              "<Figure size 720x432 with 1 Axes>"
            ]
          },
          "metadata": {
            "needs_background": "light"
          },
          "output_type": "display_data"
        }
      ],
      "source": [
        "# Plot it\n",
        "modes_sorted.plot.bar(figsize = (10, 6), x = 'preferred mode', y = 'proportion', color = 'mediumaquamarine', alpha = 0.8, legend = False)\n",
        "plt.xlabel('Travel Modes', fontsize = 12)\n",
        "plt.ylabel('Count', fontsize = 12)\n",
        "plt.xticks(rotation = 90)\n",
        "plt.title('Travel Mode Count (sample size = 20032)', fontsize = 14)"
      ]
    },
    {
      "cell_type": "code",
      "execution_count": null,
      "metadata": {
        "id": "_NDBDLCiFa71",
        "outputId": "966f0e08-930f-43aa-c875-c8cc2c0e3d6e"
      },
      "outputs": [
        {
          "data": {
            "text/plain": [
              "count    20022.000000\n",
              "mean         5.879815\n",
              "std         35.330552\n",
              "min          0.000000\n",
              "25%          0.621371\n",
              "50%          2.019456\n",
              "75%          4.660283\n",
              "max       1790.169851\n",
              "Name: distance, dtype: float64"
            ]
          },
          "execution_count": 85,
          "metadata": {},
          "output_type": "execute_result"
        }
      ],
      "source": [
        "# look at statistics for distance (for each personid)\n",
        "df_personid['distance'].describe()"
      ]
    },
    {
      "cell_type": "code",
      "execution_count": null,
      "metadata": {
        "id": "YJ8pvqwiFa71",
        "outputId": "edac96e3-3091-4d4c-c3ea-c9206dd20a99"
      },
      "outputs": [
        {
          "data": {
            "image/png": "[encoded data removed]",
            "text/plain": [
              "<Figure size 432x288 with 1 Axes>"
            ]
          },
          "metadata": {
            "needs_background": "light"
          },
          "output_type": "display_data"
        },
        {
          "data": {
            "image/png": "[encoded data removed]",
            "text/plain": [
              "<Figure size 432x288 with 1 Axes>"
            ]
          },
          "metadata": {
            "needs_background": "light"
          },
          "output_type": "display_data"
        },
        {
          "data": {
            "image/png": "[encoded data removed]",
            "text/plain": [
              "<Figure size 432x288 with 1 Axes>"
            ]
          },
          "metadata": {
            "needs_background": "light"
          },
          "output_type": "display_data"
        },
        {
          "data": {
            "image/png": "[encoded data removed]",
            "text/plain": [
              "<Figure size 432x288 with 1 Axes>"
            ]
          },
          "metadata": {
            "needs_background": "light"
          },
          "output_type": "display_data"
        }
      ],
      "source": [
        "# proportion of time/distance traveled with the top 4 modes\n",
        "travel_mode = ['Walk/Bike', 'NYC Subway', 'Auto Driver/Passenger', 'NY or MTA Bus']\n",
        "for i in travel_mode:\n",
        "    mode = df_personid[df_personid['preferred mode'] == i]\n",
        "    q = mode['distance'].quantile(0.99)\n",
        "    temp = mode[mode['distance'] < q].head()\n",
        "    fig, ax = plt.subplots()\n",
        "    sns.distplot(temp['distance'], color = 'orange', ax = ax)\n",
        "    plt.title(i)"
      ]
    },
    {
      "cell_type": "code",
      "execution_count": null,
      "metadata": {
        "id": "T5Q9tuFpFa71",
        "outputId": "fad748fe-88c4-4866-e7fe-daaad9419c5f"
      },
      "outputs": [
        {
          "data": {
            "text/plain": [
              "Text(0.5, 1.0, 'Departure Hour Count (sample size = 20032)')"
            ]
          },
          "execution_count": 87,
          "metadata": {},
          "output_type": "execute_result"
        },
        {
          "data": {
            "image/png": "[encoded data removed]",
            "text/plain": [
              "<Figure size 1152x432 with 1 Axes>"
            ]
          },
          "metadata": {
            "needs_background": "light"
          },
          "output_type": "display_data"
        }
      ],
      "source": [
        "# Departure hour count\n",
        "df_personid['departure_hour'] = np.floor(df_personid['departure_hour'])\n",
        "departure_hour = df_personid.groupby(['departure_hour']).agg({'sample_group':'count'}).reset_index()\n",
        "departure_hour.plot.bar(figsize = (16, 6), x = 'departure_hour', y = 'sample_group', color = 'slateblue', alpha = 0.7, width = 0.75, legend = False)\n",
        "plt.xlabel('Departure Hour', fontsize = 12)\n",
        "plt.ylabel('Count', fontsize = 12)\n",
        "plt.xticks(rotation = 0)\n",
        "plt.title('Departure Hour Count (sample size = 20032)', fontsize = 14)"
      ]
    },
    {
      "cell_type": "code",
      "execution_count": null,
      "metadata": {
        "id": "hoQuVlo-Fa72",
        "outputId": "e3624672-fc38-4683-8a27-bccbe4a28505"
      },
      "outputs": [
        {
          "data": {
            "text/plain": [
              "Text(0.5, 1.0, 'Age Count (sample size = 20032)')"
            ]
          },
          "execution_count": 88,
          "metadata": {},
          "output_type": "execute_result"
        },
        {
          "data": {
            "image/png": "[encoded data removed]",
            "text/plain": [
              "<Figure size 1152x432 with 1 Axes>"
            ]
          },
          "metadata": {
            "needs_background": "light"
          },
          "output_type": "display_data"
        }
      ],
      "source": [
        "# Age count\n",
        "age = df_personid.groupby(['age']).agg({'personid':'count'}).reset_index()\n",
        "age.plot.bar(figsize = (16, 6), x = 'age', y = 'personid', color = 'slateblue', alpha = 0.7, width = 0.5, legend = False)\n",
        "plt.xlabel('Age', fontsize = 12)\n",
        "plt.ylabel('Count', fontsize = 12)\n",
        "plt.xticks(rotation = 90)\n",
        "plt.title('Age Count (sample size = 20032)', fontsize = 14)"
      ]
    },
    {
      "cell_type": "code",
      "execution_count": null,
      "metadata": {
        "id": "kcjY7zI9Fa72",
        "outputId": "c1514735-8086-45ed-fdcd-48633a98dc64"
      },
      "outputs": [
        {
          "data": {
            "text/plain": [
              "Text(0.5, 1.0, 'Income Distribution (sample size = 20032)')"
            ]
          },
          "execution_count": 89,
          "metadata": {},
          "output_type": "execute_result"
        },
        {
          "data": {
            "image/png": "[encoded data removed]",
            "text/plain": [
              "<Figure size 1152x432 with 1 Axes>"
            ]
          },
          "metadata": {
            "needs_background": "light"
          },
          "output_type": "display_data"
        }
      ],
      "source": [
        "# Income distribution\n",
        "hhinc = df_personid.groupby(['hh_income']).agg({'personid':'count'}).reset_index()\n",
        "hhinc.plot.bar(figsize = (16, 6), x = 'hh_income', y = 'personid', color = 'slateblue', alpha = 0.7, width = 0.5, legend = False)\n",
        "plt.xlabel('Income Distribution', fontsize = 12)\n",
        "plt.ylabel('Count', fontsize = 12)\n",
        "plt.xticks(rotation = 90)\n",
        "plt.title('Income Distribution (sample size = 20032)', fontsize = 14)"
      ]
    },
    {
      "cell_type": "code",
      "execution_count": null,
      "metadata": {
        "id": "4oVDXOBuFa72",
        "outputId": "a66298ea-231b-44f2-98de-71234ef276de"
      },
      "outputs": [
        {
          "data": {
            "text/plain": [
              "Text(0.5, 1.0, 'Commute Frequency (sample size = 20032)')"
            ]
          },
          "execution_count": 90,
          "metadata": {},
          "output_type": "execute_result"
        },
        {
          "data": {
            "image/png": "[encoded data removed]",
            "text/plain": [
              "<Figure size 1152x432 with 1 Axes>"
            ]
          },
          "metadata": {
            "needs_background": "light"
          },
          "output_type": "display_data"
        }
      ],
      "source": [
        "# Commute frequency\n",
        "comm_freq = df_personid.groupby(['commute_freq']).agg({'personid':'count'}).reset_index()\n",
        "comm_freq.plot.bar(figsize = (16, 6), x = 'commute_freq', y = 'personid', color = 'slateblue', alpha = 0.7, width = 0.5, legend = False)\n",
        "plt.xlabel('Commute Frequency', fontsize = 12)\n",
        "plt.ylabel('Count', fontsize = 12)\n",
        "plt.xticks(rotation = 90)\n",
        "plt.title('Commute Frequency (sample size = 20032)', fontsize = 14)"
      ]
    },
    {
      "cell_type": "markdown",
      "metadata": {
        "id": "swqLq1G-Fa72"
      },
      "source": [
        "### b. Zipcode Level"
      ]
    },
    {
      "cell_type": "code",
      "execution_count": null,
      "metadata": {
        "id": "Qa3YdFljFa72",
        "outputId": "9cdb62da-2b36-47c0-b551-17a6b2f26bbc"
      },
      "outputs": [
        {
          "data": {
            "text/html": [
              "<div>\n",
              "<style scoped>\n",
              "    .dataframe tbody tr th:only-of-type {\n",
              "        vertical-align: middle;\n",
              "    }\n",
              "\n",
              "    .dataframe tbody tr th {\n",
              "        vertical-align: top;\n",
              "    }\n",
              "\n",
              "    .dataframe thead th {\n",
              "        text-align: right;\n",
              "    }\n",
              "</style>\n",
              "<table border=\"1\" class=\"dataframe\">\n",
              "  <thead>\n",
              "    <tr style=\"text-align: right;\">\n",
              "      <th></th>\n",
              "      <th>ZIPCODE</th>\n",
              "      <th>POPULATION</th>\n",
              "      <th>AREA</th>\n",
              "      <th>geometry</th>\n",
              "    </tr>\n",
              "  </thead>\n",
              "  <tbody>\n",
              "    <tr>\n",
              "      <th>0</th>\n",
              "      <td>11436</td>\n",
              "      <td>18681.0</td>\n",
              "      <td>2.269930e+07</td>\n",
              "      <td>POLYGON ((1038098.252 188138.380, 1038141.936 ...</td>\n",
              "    </tr>\n",
              "    <tr>\n",
              "      <th>1</th>\n",
              "      <td>11213</td>\n",
              "      <td>62426.0</td>\n",
              "      <td>2.963100e+07</td>\n",
              "      <td>POLYGON ((1001613.713 186926.440, 1002314.243 ...</td>\n",
              "    </tr>\n",
              "    <tr>\n",
              "      <th>2</th>\n",
              "      <td>11212</td>\n",
              "      <td>83866.0</td>\n",
              "      <td>4.197210e+07</td>\n",
              "      <td>POLYGON ((1011174.276 183696.338, 1011373.584 ...</td>\n",
              "    </tr>\n",
              "    <tr>\n",
              "      <th>3</th>\n",
              "      <td>11225</td>\n",
              "      <td>56527.0</td>\n",
              "      <td>2.369863e+07</td>\n",
              "      <td>POLYGON ((995908.365 183617.613, 996522.848 18...</td>\n",
              "    </tr>\n",
              "    <tr>\n",
              "      <th>4</th>\n",
              "      <td>11218</td>\n",
              "      <td>72280.0</td>\n",
              "      <td>3.686880e+07</td>\n",
              "      <td>POLYGON ((991997.113 176307.496, 992042.798 17...</td>\n",
              "    </tr>\n",
              "  </tbody>\n",
              "</table>\n",
              "</div>"
            ],
            "text/plain": [
              "   ZIPCODE  POPULATION          AREA  \\\n",
              "0    11436     18681.0  2.269930e+07   \n",
              "1    11213     62426.0  2.963100e+07   \n",
              "2    11212     83866.0  4.197210e+07   \n",
              "3    11225     56527.0  2.369863e+07   \n",
              "4    11218     72280.0  3.686880e+07   \n",
              "\n",
              "                                            geometry  \n",
              "0  POLYGON ((1038098.252 188138.380, 1038141.936 ...  \n",
              "1  POLYGON ((1001613.713 186926.440, 1002314.243 ...  \n",
              "2  POLYGON ((1011174.276 183696.338, 1011373.584 ...  \n",
              "3  POLYGON ((995908.365 183617.613, 996522.848 18...  \n",
              "4  POLYGON ((991997.113 176307.496, 992042.798 17...  "
            ]
          },
          "execution_count": 91,
          "metadata": {},
          "output_type": "execute_result"
        }
      ],
      "source": [
        "# Shapefile for plotting on NYC map\n",
        "zips = gpd.read_file('ZIP_CODE_040114.shp')\n",
        "zips['ZIPCODE'] = zips['ZIPCODE'].astype(int)\n",
        "zips_sel = zips[['ZIPCODE', 'POPULATION', 'AREA', 'geometry']]\n",
        "zips_sel.head()"
      ]
    },
    {
      "cell_type": "code",
      "execution_count": null,
      "metadata": {
        "id": "qDoGhXaTFa72",
        "outputId": "adcc5b8c-f1f7-4c80-9ab3-a59f74682f13"
      },
      "outputs": [
        {
          "data": {
            "image/png": "[encoded data removed]",
            "text/plain": [
              "<Figure size 468x468 with 1 Axes>"
            ]
          },
          "metadata": {
            "needs_background": "light"
          },
          "output_type": "display_data"
        },
        {
          "data": {
            "image/png": "[encoded data removed]",
            "text/plain": [
              "<Figure size 468x468 with 1 Axes>"
            ]
          },
          "metadata": {
            "needs_background": "light"
          },
          "output_type": "display_data"
        },
        {
          "data": {
            "image/png": "[encoded data removed]",
            "text/plain": [
              "<Figure size 468x468 with 1 Axes>"
            ]
          },
          "metadata": {
            "needs_background": "light"
          },
          "output_type": "display_data"
        },
        {
          "data": {
            "image/png": "[encoded data removed]",
            "text/plain": [
              "<Figure size 468x468 with 1 Axes>"
            ]
          },
          "metadata": {
            "needs_background": "light"
          },
          "output_type": "display_data"
        }
      ],
      "source": [
        "# Plot modes proportion\n",
        "travel_mode = ['Walk/Bike', 'NYC Subway', 'Auto Driver/Passenger', 'NY or MTA Bus']\n",
        "for i in travel_mode:\n",
        "    mode = df_personid[df_personid['preferred mode'] == i]\n",
        "    mode_grp = mode.groupby(['home_postal_code']).agg({'preferred mode':'count'}).reset_index()\n",
        "    mode_grp.rename(columns = {'preferred mode' : 'count'}, inplace = True)\n",
        "    mode_grp['norm_count'] = 100*mode_grp['count'] /  mode_grp['count'].sum()\n",
        "    mode_grp_zips = zips_sel.merge(mode_grp, left_on = 'ZIPCODE', right_on = 'home_postal_code', how = 'left')\n",
        "    fig, ax = plt.subplots(figsize = (6.5,6.5))\n",
        "    mode_grp_zips.plot(column = 'norm_count', cmap = 'plasma', k = 10, scheme = 'Quantiles', legend = True,\n",
        "                    legend_kwds = {'loc': 'upper left'}, missing_kwds={'hatch':'////','color':'whitesmoke'}, ax = ax)\n",
        "    plt.title(i)"
      ]
    },
    {
      "cell_type": "markdown",
      "metadata": {
        "id": "Nm5QanX_Fa73"
      },
      "source": [
        "## 3. Data Preprocessing"
      ]
    },
    {
      "cell_type": "code",
      "execution_count": null,
      "metadata": {
        "colab": {
          "base_uri": "https://localhost:8080/",
          "height": 418
        },
        "id": "TvRDtc9OFa73",
        "outputId": "8461fc27-f091-4180-e76d-6d6e3e32f343"
      },
      "outputs": [
        {
          "data": {
            "text/html": [
              "<div>\n",
              "<style scoped>\n",
              "    .dataframe tbody tr th:only-of-type {\n",
              "        vertical-align: middle;\n",
              "    }\n",
              "\n",
              "    .dataframe tbody tr th {\n",
              "        vertical-align: top;\n",
              "    }\n",
              "\n",
              "    .dataframe thead th {\n",
              "        text-align: right;\n",
              "    }\n",
              "</style>\n",
              "<table border=\"1\" class=\"dataframe\">\n",
              "  <thead>\n",
              "    <tr style=\"text-align: right;\">\n",
              "      <th></th>\n",
              "      <th>hh_group</th>\n",
              "      <th>sample_group</th>\n",
              "      <th>dest_type</th>\n",
              "      <th>orig_type</th>\n",
              "      <th>tour_purpose</th>\n",
              "      <th>departure_hour</th>\n",
              "      <th>orig_bg</th>\n",
              "      <th>dest_bg</th>\n",
              "      <th>distance</th>\n",
              "      <th>vehicle_count</th>\n",
              "      <th>...</th>\n",
              "      <th>home_postal_code</th>\n",
              "      <th>preferred mode</th>\n",
              "      <th>ZIPCODE</th>\n",
              "      <th>comm_percent</th>\n",
              "      <th>mixed_percent</th>\n",
              "      <th>res_percent</th>\n",
              "      <th>bus</th>\n",
              "      <th>subway</th>\n",
              "      <th>citybike</th>\n",
              "      <th>norm_car_ev_count</th>\n",
              "    </tr>\n",
              "    <tr>\n",
              "      <th>personid</th>\n",
              "      <th></th>\n",
              "      <th></th>\n",
              "      <th></th>\n",
              "      <th></th>\n",
              "      <th></th>\n",
              "      <th></th>\n",
              "      <th></th>\n",
              "      <th></th>\n",
              "      <th></th>\n",
              "      <th></th>\n",
              "      <th></th>\n",
              "      <th></th>\n",
              "      <th></th>\n",
              "      <th></th>\n",
              "      <th></th>\n",
              "      <th></th>\n",
              "      <th></th>\n",
              "      <th></th>\n",
              "      <th></th>\n",
              "      <th></th>\n",
              "      <th></th>\n",
              "    </tr>\n",
              "  </thead>\n",
              "  <tbody>\n",
              "    <tr>\n",
              "      <th>2201</th>\n",
              "      <td>rMove</td>\n",
              "      <td>Postcard</td>\n",
              "      <td>Home</td>\n",
              "      <td>Home</td>\n",
              "      <td>Work</td>\n",
              "      <td>13.0</td>\n",
              "      <td>3.608100e+11</td>\n",
              "      <td>3.608100e+11</td>\n",
              "      <td>1.210038</td>\n",
              "      <td>0</td>\n",
              "      <td>...</td>\n",
              "      <td>11101.0</td>\n",
              "      <td>Walk/Bike</td>\n",
              "      <td>11101</td>\n",
              "      <td>0.085527</td>\n",
              "      <td>0.041913</td>\n",
              "      <td>0.05536</td>\n",
              "      <td>181.0</td>\n",
              "      <td>12.0</td>\n",
              "      <td>13.0</td>\n",
              "      <td>0.544336</td>\n",
              "    </tr>\n",
              "    <tr>\n",
              "      <th>5302</th>\n",
              "      <td>rSurvey</td>\n",
              "      <td>Postcard</td>\n",
              "      <td>Home</td>\n",
              "      <td>Home</td>\n",
              "      <td>K-12 School or daycare</td>\n",
              "      <td>12.0</td>\n",
              "      <td>3.608102e+11</td>\n",
              "      <td>3.608102e+11</td>\n",
              "      <td>0.310686</td>\n",
              "      <td>1</td>\n",
              "      <td>...</td>\n",
              "      <td>11101.0</td>\n",
              "      <td>Walk/Bike</td>\n",
              "      <td>11101</td>\n",
              "      <td>0.085527</td>\n",
              "      <td>0.041913</td>\n",
              "      <td>0.05536</td>\n",
              "      <td>181.0</td>\n",
              "      <td>12.0</td>\n",
              "      <td>13.0</td>\n",
              "      <td>0.544336</td>\n",
              "    </tr>\n",
              "    <tr>\n",
              "      <th>8801</th>\n",
              "      <td>rSurvey</td>\n",
              "      <td>MTA email list</td>\n",
              "      <td>Home</td>\n",
              "      <td>Home</td>\n",
              "      <td>K-12 School or daycare</td>\n",
              "      <td>11.0</td>\n",
              "      <td>3.608100e+11</td>\n",
              "      <td>3.608100e+11</td>\n",
              "      <td>0.932056</td>\n",
              "      <td>0</td>\n",
              "      <td>...</td>\n",
              "      <td>11101.0</td>\n",
              "      <td>Walk/Bike</td>\n",
              "      <td>11101</td>\n",
              "      <td>0.085527</td>\n",
              "      <td>0.041913</td>\n",
              "      <td>0.05536</td>\n",
              "      <td>181.0</td>\n",
              "      <td>12.0</td>\n",
              "      <td>13.0</td>\n",
              "      <td>0.544336</td>\n",
              "    </tr>\n",
              "    <tr>\n",
              "      <th>8802</th>\n",
              "      <td>rSurvey</td>\n",
              "      <td>MTA email list</td>\n",
              "      <td>Home</td>\n",
              "      <td>Home</td>\n",
              "      <td>K-12 School or daycare</td>\n",
              "      <td>11.0</td>\n",
              "      <td>3.608100e+11</td>\n",
              "      <td>3.608100e+11</td>\n",
              "      <td>0.932056</td>\n",
              "      <td>0</td>\n",
              "      <td>...</td>\n",
              "      <td>11101.0</td>\n",
              "      <td>Walk/Bike</td>\n",
              "      <td>11101</td>\n",
              "      <td>0.085527</td>\n",
              "      <td>0.041913</td>\n",
              "      <td>0.05536</td>\n",
              "      <td>181.0</td>\n",
              "      <td>12.0</td>\n",
              "      <td>13.0</td>\n",
              "      <td>0.544336</td>\n",
              "    </tr>\n",
              "    <tr>\n",
              "      <th>8803</th>\n",
              "      <td>rSurvey</td>\n",
              "      <td>MTA email list</td>\n",
              "      <td>Home</td>\n",
              "      <td>Home</td>\n",
              "      <td>K-12 School or daycare</td>\n",
              "      <td>11.0</td>\n",
              "      <td>3.608100e+11</td>\n",
              "      <td>3.608100e+11</td>\n",
              "      <td>0.932056</td>\n",
              "      <td>0</td>\n",
              "      <td>...</td>\n",
              "      <td>11101.0</td>\n",
              "      <td>Walk/Bike</td>\n",
              "      <td>11101</td>\n",
              "      <td>0.085527</td>\n",
              "      <td>0.041913</td>\n",
              "      <td>0.05536</td>\n",
              "      <td>181.0</td>\n",
              "      <td>12.0</td>\n",
              "      <td>13.0</td>\n",
              "      <td>0.544336</td>\n",
              "    </tr>\n",
              "  </tbody>\n",
              "</table>\n",
              "<p>5 rows × 46 columns</p>\n",
              "</div>"
            ],
            "text/plain": [
              "         hh_group    sample_group dest_type orig_type            tour_purpose  \\\n",
              "personid                                                                        \n",
              "2201        rMove        Postcard      Home      Home                    Work   \n",
              "5302      rSurvey        Postcard      Home      Home  K-12 School or daycare   \n",
              "8801      rSurvey  MTA email list      Home      Home  K-12 School or daycare   \n",
              "8802      rSurvey  MTA email list      Home      Home  K-12 School or daycare   \n",
              "8803      rSurvey  MTA email list      Home      Home  K-12 School or daycare   \n",
              "\n",
              "          departure_hour       orig_bg       dest_bg  distance  vehicle_count  \\\n",
              "personid                                                                        \n",
              "2201                13.0  3.608100e+11  3.608100e+11  1.210038              0   \n",
              "5302                12.0  3.608102e+11  3.608102e+11  0.310686              1   \n",
              "8801                11.0  3.608100e+11  3.608100e+11  0.932056              0   \n",
              "8802                11.0  3.608100e+11  3.608100e+11  0.932056              0   \n",
              "8803                11.0  3.608100e+11  3.608100e+11  0.932056              0   \n",
              "\n",
              "          ...  home_postal_code preferred mode  ZIPCODE  comm_percent  \\\n",
              "personid  ...                                                           \n",
              "2201      ...           11101.0      Walk/Bike    11101      0.085527   \n",
              "5302      ...           11101.0      Walk/Bike    11101      0.085527   \n",
              "8801      ...           11101.0      Walk/Bike    11101      0.085527   \n",
              "8802      ...           11101.0      Walk/Bike    11101      0.085527   \n",
              "8803      ...           11101.0      Walk/Bike    11101      0.085527   \n",
              "\n",
              "         mixed_percent  res_percent    bus subway citybike  norm_car_ev_count  \n",
              "personid                                                                       \n",
              "2201          0.041913      0.05536  181.0   12.0     13.0           0.544336  \n",
              "5302          0.041913      0.05536  181.0   12.0     13.0           0.544336  \n",
              "8801          0.041913      0.05536  181.0   12.0     13.0           0.544336  \n",
              "8802          0.041913      0.05536  181.0   12.0     13.0           0.544336  \n",
              "8803          0.041913      0.05536  181.0   12.0     13.0           0.544336  \n",
              "\n",
              "[5 rows x 46 columns]"
            ]
          },
          "execution_count": 93,
          "metadata": {},
          "output_type": "execute_result"
        }
      ],
      "source": [
        "# Here you can download the dataframe after processing\n",
        "#df_personid.to_csv(\"df_personid.csv\", index=True)\n",
        "df_personid = pd.read_csv('df_personid.csv')\n",
        "df_personid = df_personid.set_index(\"personid\")\n",
        "df_personid = df_personid.iloc[:,2:]\n",
        "df_personid.head()"
      ]
    },
    {
      "cell_type": "code",
      "execution_count": null,
      "metadata": {
        "id": "qhECGHxYFa73"
      },
      "outputs": [],
      "source": [
        "# drop columns that are not useful for prediction\n",
        "df_personid = df_personid.drop(columns=[\"dest_bg\",\"orig_bg\",\"home_postal_code\"])"
      ]
    },
    {
      "cell_type": "code",
      "execution_count": null,
      "metadata": {
        "id": "mQFDDKeyFa73"
      },
      "outputs": [],
      "source": [
        "# Manually encode household group\n",
        "df_personid[\"hh_group\"] = df_personid[\"hh_group\"].replace([\"rSurvey\",\"rMove\"],[0,1],)"
      ]
    },
    {
      "cell_type": "code",
      "execution_count": null,
      "metadata": {
        "id": "oWDH5TH-Fa73"
      },
      "outputs": [],
      "source": [
        "# Make sure categorical data is in string format\n",
        "cat = [\"sample_group\",\"dest_type\",\"orig_type\",\"tour_purpose\",\"res_duration\",\\\n",
        "                            \"education_level\",\"english_prof\",\"job_type\",\"hours_worked\",\"commute_freq\",\\\n",
        "                            \"telecommute_freq\"]\n",
        "for i in cat:\n",
        "    df_personid[i] = df_personid[i].astype(str)"
      ]
    },
    {
      "cell_type": "code",
      "execution_count": null,
      "metadata": {
        "colab": {
          "base_uri": "https://localhost:8080/"
        },
        "id": "lFJQffwOL33F",
        "outputId": "6e9472f3-70ee-4c3f-cee5-7ce6febf718d"
      },
      "outputs": [
        {
          "name": "stdout",
          "output_type": "stream",
          "text": [
            "                            0\n",
            "hh_group                    0\n",
            "sample_group                0\n",
            "dest_type                   0\n",
            "orig_type                   0\n",
            "tour_purpose                0\n",
            "departure_hour              0\n",
            "distance                    0\n",
            "vehicle_count               0\n",
            "hhsize                      0\n",
            "res_duration                0\n",
            "home_bg                     0\n",
            "hh_income                   0\n",
            "gender                      0\n",
            "age                         0\n",
            "job_count                   0\n",
            "education_level             0\n",
            "english_prof                0\n",
            "ethnicity_american_alaska   0\n",
            "ethnicity_asian             0\n",
            "ethnicity_black             0\n",
            "ethnicity_hawaii            0\n",
            "ethnicity_white             0\n",
            "ethnicity_other             0\n",
            "ethnicity_noanswer          0\n",
            "job_type                    0\n",
            "hours_worked                0\n",
            "commute_freq                0\n",
            "telecommute_freq            0\n",
            "is_student                  0\n",
            "has_license                 0\n",
            "hasunder18                  0\n",
            "hassmartphone               0\n",
            "isbornus                    0\n",
            "num_trips                   0\n",
            "preferred mode              0\n",
            "ZIPCODE                     0\n",
            "comm_percent                0\n",
            "mixed_percent               0\n",
            "res_percent                 0\n",
            "bus                         0\n",
            "subway                      0\n",
            "citybike                    0\n",
            "norm_car_ev_count          17\n"
          ]
        }
      ],
      "source": [
        "nas = pd.DataFrame(df_personid.isna().sum())\n",
        "print(nas.to_string())"
      ]
    },
    {
      "cell_type": "code",
      "execution_count": null,
      "metadata": {
        "colab": {
          "base_uri": "https://localhost:8080/"
        },
        "id": "ik27unA2NoW1",
        "outputId": "a6520803-0d20-4652-cf5f-1467dff3883c"
      },
      "outputs": [
        {
          "data": {
            "text/plain": [
              "(20005, 38)"
            ]
          },
          "execution_count": 98,
          "metadata": {},
          "output_type": "execute_result"
        }
      ],
      "source": [
        "df_personid = df_personid.drop(columns=['orig_type','education_level','job_type','commute_freq','telecommute_freq'])\n",
        "df_personid = df_personid.dropna()\n",
        "df_personid.shape"
      ]
    },
    {
      "cell_type": "code",
      "execution_count": null,
      "metadata": {
        "id": "Z2DpTpxWPUkD"
      },
      "outputs": [],
      "source": [
        "encoder = OrdinalEncoder()\n",
        "df_personid['preferred mode'] = encoder.fit_transform(df_personid['preferred mode'], axis=1)"
      ]
    },
    {
      "cell_type": "code",
      "execution_count": null,
      "metadata": {
        "id": "7KVzjEu3PhTE"
      },
      "outputs": [],
      "source": [
        "y = df_personid['preferred mode']"
      ]
    },
    {
      "cell_type": "code",
      "execution_count": null,
      "metadata": {
        "colab": {
          "base_uri": "https://localhost:8080/"
        },
        "id": "OTkNmdpCQGQx",
        "outputId": "e24443fd-745c-4525-8d6c-0ea2a541d3f1"
      },
      "outputs": [
        {
          "data": {
            "text/plain": [
              "(20005, 21)"
            ]
          },
          "execution_count": 101,
          "metadata": {},
          "output_type": "execute_result"
        }
      ],
      "source": [
        "df_personid = df_personid.select_dtypes(exclude=['object'])\n",
        "x = df_personid.drop(['preferred mode','home_bg','ZIPCODE', 'comm_percent', 'mixed_percent',\n",
        "       'res_percent', 'bus', 'subway', 'citybike', 'norm_car_ev_count'], axis=1)\n",
        "x = x.dropna()\n",
        "x.shape"
      ]
    },
    {
      "cell_type": "code",
      "execution_count": null,
      "metadata": {
        "colab": {
          "base_uri": "https://localhost:8080/",
          "height": 331
        },
        "id": "9oZ3e9a6QfMC",
        "outputId": "bb991f14-d166-40da-ee0c-85e4e6336fed"
      },
      "outputs": [
        {
          "data": {
            "text/html": [
              "<div>\n",
              "<style scoped>\n",
              "    .dataframe tbody tr th:only-of-type {\n",
              "        vertical-align: middle;\n",
              "    }\n",
              "\n",
              "    .dataframe tbody tr th {\n",
              "        vertical-align: top;\n",
              "    }\n",
              "\n",
              "    .dataframe thead th {\n",
              "        text-align: right;\n",
              "    }\n",
              "</style>\n",
              "<table border=\"1\" class=\"dataframe\">\n",
              "  <thead>\n",
              "    <tr style=\"text-align: right;\">\n",
              "      <th></th>\n",
              "      <th>hh_group</th>\n",
              "      <th>departure_hour</th>\n",
              "      <th>distance</th>\n",
              "      <th>vehicle_count</th>\n",
              "      <th>hhsize</th>\n",
              "      <th>hh_income</th>\n",
              "      <th>age</th>\n",
              "      <th>job_count</th>\n",
              "      <th>ethnicity_american_alaska</th>\n",
              "      <th>ethnicity_asian</th>\n",
              "      <th>...</th>\n",
              "      <th>ethnicity_hawaii</th>\n",
              "      <th>ethnicity_white</th>\n",
              "      <th>ethnicity_other</th>\n",
              "      <th>ethnicity_noanswer</th>\n",
              "      <th>is_student</th>\n",
              "      <th>has_license</th>\n",
              "      <th>hasunder18</th>\n",
              "      <th>hassmartphone</th>\n",
              "      <th>isbornus</th>\n",
              "      <th>num_trips</th>\n",
              "    </tr>\n",
              "    <tr>\n",
              "      <th>personid</th>\n",
              "      <th></th>\n",
              "      <th></th>\n",
              "      <th></th>\n",
              "      <th></th>\n",
              "      <th></th>\n",
              "      <th></th>\n",
              "      <th></th>\n",
              "      <th></th>\n",
              "      <th></th>\n",
              "      <th></th>\n",
              "      <th></th>\n",
              "      <th></th>\n",
              "      <th></th>\n",
              "      <th></th>\n",
              "      <th></th>\n",
              "      <th></th>\n",
              "      <th></th>\n",
              "      <th></th>\n",
              "      <th></th>\n",
              "      <th></th>\n",
              "      <th></th>\n",
              "    </tr>\n",
              "  </thead>\n",
              "  <tbody>\n",
              "    <tr>\n",
              "      <th>2201</th>\n",
              "      <td>1</td>\n",
              "      <td>13.0</td>\n",
              "      <td>1.210038</td>\n",
              "      <td>0</td>\n",
              "      <td>3</td>\n",
              "      <td>300000.0</td>\n",
              "      <td>37.0</td>\n",
              "      <td>1</td>\n",
              "      <td>0</td>\n",
              "      <td>0</td>\n",
              "      <td>...</td>\n",
              "      <td>0</td>\n",
              "      <td>1</td>\n",
              "      <td>0</td>\n",
              "      <td>0</td>\n",
              "      <td>0</td>\n",
              "      <td>1</td>\n",
              "      <td>1</td>\n",
              "      <td>1</td>\n",
              "      <td>1</td>\n",
              "      <td>23</td>\n",
              "    </tr>\n",
              "    <tr>\n",
              "      <th>5302</th>\n",
              "      <td>0</td>\n",
              "      <td>12.0</td>\n",
              "      <td>0.310686</td>\n",
              "      <td>1</td>\n",
              "      <td>2</td>\n",
              "      <td>125000.0</td>\n",
              "      <td>32.0</td>\n",
              "      <td>0</td>\n",
              "      <td>0</td>\n",
              "      <td>0</td>\n",
              "      <td>...</td>\n",
              "      <td>0</td>\n",
              "      <td>1</td>\n",
              "      <td>0</td>\n",
              "      <td>0</td>\n",
              "      <td>1</td>\n",
              "      <td>1</td>\n",
              "      <td>0</td>\n",
              "      <td>1</td>\n",
              "      <td>1</td>\n",
              "      <td>2</td>\n",
              "    </tr>\n",
              "    <tr>\n",
              "      <th>8801</th>\n",
              "      <td>0</td>\n",
              "      <td>11.0</td>\n",
              "      <td>0.932056</td>\n",
              "      <td>0</td>\n",
              "      <td>3</td>\n",
              "      <td>38500.0</td>\n",
              "      <td>32.0</td>\n",
              "      <td>1</td>\n",
              "      <td>0</td>\n",
              "      <td>0</td>\n",
              "      <td>...</td>\n",
              "      <td>0</td>\n",
              "      <td>1</td>\n",
              "      <td>0</td>\n",
              "      <td>0</td>\n",
              "      <td>0</td>\n",
              "      <td>1</td>\n",
              "      <td>1</td>\n",
              "      <td>1</td>\n",
              "      <td>1</td>\n",
              "      <td>4</td>\n",
              "    </tr>\n",
              "    <tr>\n",
              "      <th>8802</th>\n",
              "      <td>0</td>\n",
              "      <td>11.0</td>\n",
              "      <td>0.932056</td>\n",
              "      <td>0</td>\n",
              "      <td>3</td>\n",
              "      <td>38500.0</td>\n",
              "      <td>10.0</td>\n",
              "      <td>0</td>\n",
              "      <td>0</td>\n",
              "      <td>0</td>\n",
              "      <td>...</td>\n",
              "      <td>0</td>\n",
              "      <td>0</td>\n",
              "      <td>0</td>\n",
              "      <td>0</td>\n",
              "      <td>1</td>\n",
              "      <td>0</td>\n",
              "      <td>1</td>\n",
              "      <td>0</td>\n",
              "      <td>0</td>\n",
              "      <td>4</td>\n",
              "    </tr>\n",
              "    <tr>\n",
              "      <th>8803</th>\n",
              "      <td>0</td>\n",
              "      <td>11.0</td>\n",
              "      <td>0.932056</td>\n",
              "      <td>0</td>\n",
              "      <td>3</td>\n",
              "      <td>38500.0</td>\n",
              "      <td>10.0</td>\n",
              "      <td>0</td>\n",
              "      <td>0</td>\n",
              "      <td>0</td>\n",
              "      <td>...</td>\n",
              "      <td>0</td>\n",
              "      <td>0</td>\n",
              "      <td>0</td>\n",
              "      <td>0</td>\n",
              "      <td>1</td>\n",
              "      <td>0</td>\n",
              "      <td>1</td>\n",
              "      <td>0</td>\n",
              "      <td>0</td>\n",
              "      <td>4</td>\n",
              "    </tr>\n",
              "  </tbody>\n",
              "</table>\n",
              "<p>5 rows × 21 columns</p>\n",
              "</div>"
            ],
            "text/plain": [
              "          hh_group  departure_hour  distance  vehicle_count  hhsize  \\\n",
              "personid                                                              \n",
              "2201             1            13.0  1.210038              0       3   \n",
              "5302             0            12.0  0.310686              1       2   \n",
              "8801             0            11.0  0.932056              0       3   \n",
              "8802             0            11.0  0.932056              0       3   \n",
              "8803             0            11.0  0.932056              0       3   \n",
              "\n",
              "          hh_income   age  job_count  ethnicity_american_alaska  \\\n",
              "personid                                                          \n",
              "2201       300000.0  37.0          1                          0   \n",
              "5302       125000.0  32.0          0                          0   \n",
              "8801        38500.0  32.0          1                          0   \n",
              "8802        38500.0  10.0          0                          0   \n",
              "8803        38500.0  10.0          0                          0   \n",
              "\n",
              "          ethnicity_asian  ...  ethnicity_hawaii  ethnicity_white  \\\n",
              "personid                   ...                                      \n",
              "2201                    0  ...                 0                1   \n",
              "5302                    0  ...                 0                1   \n",
              "8801                    0  ...                 0                1   \n",
              "8802                    0  ...                 0                0   \n",
              "8803                    0  ...                 0                0   \n",
              "\n",
              "          ethnicity_other  ethnicity_noanswer  is_student  has_license  \\\n",
              "personid                                                                 \n",
              "2201                    0                   0           0            1   \n",
              "5302                    0                   0           1            1   \n",
              "8801                    0                   0           0            1   \n",
              "8802                    0                   0           1            0   \n",
              "8803                    0                   0           1            0   \n",
              "\n",
              "          hasunder18  hassmartphone  isbornus  num_trips  \n",
              "personid                                                  \n",
              "2201               1              1         1         23  \n",
              "5302               0              1         1          2  \n",
              "8801               1              1         1          4  \n",
              "8802               1              0         0          4  \n",
              "8803               1              0         0          4  \n",
              "\n",
              "[5 rows x 21 columns]"
            ]
          },
          "execution_count": 102,
          "metadata": {},
          "output_type": "execute_result"
        }
      ],
      "source": [
        "x.head()"
      ]
    },
    {
      "cell_type": "code",
      "execution_count": null,
      "metadata": {
        "colab": {
          "base_uri": "https://localhost:8080/",
          "height": 1000
        },
        "id": "rllN-l-ORSYo",
        "outputId": "c04e5709-b982-4b56-ca1d-fe463d03425c"
      },
      "outputs": [
        {
          "data": {
            "image/png": "[encoded data removed]",
            "text/plain": [
              "<Figure size 1440x1440 with 2 Axes>"
            ]
          },
          "metadata": {
            "needs_background": "light"
          },
          "output_type": "display_data"
        }
      ],
      "source": [
        "# Correlation heat map\n",
        "corr = x.corr(method ='spearman')\n",
        "mask = np.zeros_like(corr, dtype=np.bool)\n",
        "mask[np.triu_indices_from(mask)] = True\n",
        "f, ax = plt.subplots(figsize=(20, 20))\n",
        "cmap = sns.diverging_palette(225, 5, as_cmap=True)\n",
        "sns.heatmap(corr, mask=mask, cmap=cmap, vmax=.3, center=0,square=True, linewidths=.5, cbar_kws={\"shrink\": .5}, annot=True)\n",
        "plt.show()"
      ]
    },
    {
      "cell_type": "code",
      "execution_count": null,
      "metadata": {
        "id": "nC-b7G-1b2oQ"
      },
      "outputs": [],
      "source": [
        "# pair = x[['distance', 'age', 'hh_income']]\n",
        "# sns.pairplot(pair)"
      ]
    },
    {
      "cell_type": "code",
      "execution_count": null,
      "metadata": {
        "id": "6_LjhCUQRJNj"
      },
      "outputs": [],
      "source": [
        "# # Select top 10 features\n",
        "# features_norm = MinMaxScaler().fit_transform(x)\n",
        "# chi_selector = SelectKBest(chi2, k=10)\n",
        "# chi_selector.fit(features_norm, y)\n",
        "\n",
        "# chi_support = chi_selector.get_support()\n",
        "# chi_feature = x.loc[:,chi_support].columns.tolist()\n",
        "# print(str(len(chi_feature)), 'selected features')\n",
        "# print('Top-10 features: \\n', chi_feature)"
      ]
    },
    {
      "cell_type": "code",
      "execution_count": null,
      "metadata": {
        "id": "r0ai96iHSq0G"
      },
      "outputs": [],
      "source": [
        "# x_10 = x[['hh_group', 'vehicle_count', 'ethnicity_asian', 'ethnicity_black', 'ethnicity_white', 'ethnicity_other', 'is_student', 'has_license', 'hasunder18', 'hassmartphone']]\n",
        "# x_10.head()"
      ]
    },
    {
      "cell_type": "markdown",
      "metadata": {
        "id": "1zm_Tws4Fa74"
      },
      "source": [
        "## 4. Data Modeling (Classification)"
      ]
    },
    {
      "cell_type": "markdown",
      "metadata": {
        "id": "idaQzAyeFa74"
      },
      "source": [
        "### a. Benchmark"
      ]
    },
    {
      "cell_type": "markdown",
      "metadata": {
        "id": "e6N77Qp9Fa75"
      },
      "source": [
        "#### I. Logistic Regression"
      ]
    },
    {
      "cell_type": "code",
      "execution_count": null,
      "metadata": {
        "id": "PFEL_jp0y_eT",
        "outputId": "b372c355-a505-4010-b4b0-72437c1fb00d"
      },
      "outputs": [
        {
          "name": "stdout",
          "output_type": "stream",
          "text": [
            "Test score: 0.4066949409269918\n",
            "{'classifier__C': 0.1}\n"
          ]
        }
      ],
      "source": [
        "X_train, X_test, y_train, y_test = train_test_split(x.copy(), y.copy().to_frame(), test_size=0.33,random_state=111)\n",
        "\n",
        "pipeline = Pipeline([('classifier', LogisticRegression(random_state=11,\n",
        "                                                                  max_iter=1000))])\n",
        "\n",
        "stratified_kfold = StratifiedKFold(n_splits=3,\n",
        "                                       shuffle=True,\n",
        "                                       random_state=11)\n",
        "\n",
        "param_grid = {'classifier__C':[0.001, 0.01, 0.1, 1, 10, 100, 1000]}\n",
        "grid_search = GridSearchCV(estimator=pipeline,\n",
        "                           param_grid=param_grid,\n",
        "                           scoring='accuracy',\n",
        "                           cv=stratified_kfold,\n",
        "                           n_jobs=-1)\n",
        "\n",
        "grid_search.fit(X_train, y_train)\n",
        "cv_score = grid_search.best_score_\n",
        "print(f'Test score: {grid_search.score(X_test, y_test)}')\n",
        "acc_lr = np.round(grid_search.score(X_test, y_test),4)\n",
        "print(grid_search.best_params_)\n",
        "y_pred = grid_search.predict(X_test)"
      ]
    },
    {
      "cell_type": "code",
      "execution_count": null,
      "metadata": {
        "id": "M0odZfPNy_eT",
        "outputId": "3ef87515-9d41-46b2-e8f9-64195c217052"
      },
      "outputs": [
        {
          "name": "stdout",
          "output_type": "stream",
          "text": [
            "              precision    recall  f1-score   support\n",
            "\n",
            "           1       0.42      0.93      0.58      2640\n",
            "           2       0.32      0.12      0.18      1771\n",
            "           3       0.00      0.00      0.00       674\n",
            "           4       0.38      0.01      0.02       293\n",
            "           5       0.28      0.01      0.02      1224\n",
            "\n",
            "    accuracy                           0.41      6602\n",
            "   macro avg       0.28      0.21      0.16      6602\n",
            "weighted avg       0.32      0.41      0.28      6602\n",
            "\n"
          ]
        }
      ],
      "source": [
        "# micro averages\n",
        "print(metrics.classification_report(y_test, y_pred))"
      ]
    },
    {
      "cell_type": "markdown",
      "metadata": {
        "id": "PiufvCblFa75"
      },
      "source": [
        "#### II. Naive Bayes"
      ]
    },
    {
      "cell_type": "code",
      "execution_count": null,
      "metadata": {
        "colab": {
          "base_uri": "https://localhost:8080/"
        },
        "id": "5hrJ8E5-Fa75",
        "outputId": "178615f0-c2d5-44fd-8ab4-7e0caa8cb0f6"
      },
      "outputs": [
        {
          "name": "stdout",
          "output_type": "stream",
          "text": [
            "In sample prediction accuracy: 0.34350518540625236\n",
            "Out of sample prediction accuracy: 0.3436837322023629\n"
          ]
        }
      ],
      "source": [
        "X_train, X_test, y_train, y_test = train_test_split(x.copy(), y.copy().to_frame(), test_size=0.33,random_state=111)\n",
        "gnb = GaussianNB().fit(X_train, y_train)\n",
        "print(f'In sample prediction accuracy: {gnb.score(X_train,y_train)}')\n",
        "print(f'Out of sample prediction accuracy: {gnb.score(X_test,y_test)}')\n",
        "acc_nb = np.round(gnb.score(X_test,y_test),4)\n",
        "y_pred = gnb.predict(X_test)"
      ]
    },
    {
      "cell_type": "code",
      "execution_count": null,
      "metadata": {
        "id": "0bEapBOky_eU",
        "outputId": "2b93a50b-3a7f-4e45-92cb-43f84d0966c7"
      },
      "outputs": [
        {
          "name": "stdout",
          "output_type": "stream",
          "text": [
            "              precision    recall  f1-score   support\n",
            "\n",
            "           1       0.54      0.25      0.34      2640\n",
            "           2       0.30      0.88      0.45      1771\n",
            "           3       0.20      0.01      0.01       674\n",
            "           4       0.39      0.06      0.11       293\n",
            "           5       0.38      0.01      0.03      1224\n",
            "\n",
            "    accuracy                           0.34      6602\n",
            "   macro avg       0.36      0.24      0.19      6602\n",
            "weighted avg       0.40      0.34      0.27      6602\n",
            "\n"
          ]
        }
      ],
      "source": [
        "# micro averages\n",
        "print(metrics.classification_report(y_test, y_pred))"
      ]
    },
    {
      "cell_type": "markdown",
      "metadata": {
        "id": "qj_6TdRnFa75"
      },
      "source": [
        "#### III. Decision Tree"
      ]
    },
    {
      "cell_type": "code",
      "execution_count": null,
      "metadata": {
        "colab": {
          "base_uri": "https://localhost:8080/"
        },
        "id": "V2ednOmKhVyq",
        "outputId": "af991876-93f7-4848-c140-f049807e460c"
      },
      "outputs": [
        {
          "name": "stdout",
          "output_type": "stream",
          "text": [
            "{'max_depth': 12, 'max_leaf_nodes': 18, 'min_samples_split': 4}\n",
            "In sample accuracy: 0.562411400432739\n",
            "Out of sample accuracy: 0.540896697970312\n"
          ]
        }
      ],
      "source": [
        "X_train, X_test, y_train, y_test = train_test_split(x.copy(), y.copy().to_frame(), test_size=0.33,random_state=111)\n",
        "param_grid = {'max_depth': range(2, 100, 10),\n",
        "              'min_samples_split':  range(2, 10, 1),\n",
        "              'max_leaf_nodes': range(2, 20, 2)\n",
        "              }\n",
        "\n",
        "dt = DecisionTreeClassifier()\n",
        "gr = GridSearchCV(dt, param_grid = param_grid)\n",
        "rs = gr.fit(X_train, y_train)\n",
        "print(rs.best_params_)\n",
        "\n",
        "# in sample accuracy\n",
        "print('In sample accuracy:', rs.score(X_train, y_train))\n",
        "\n",
        "# out of sample accuracy\n",
        "print('Out of sample accuracy:', rs.score(X_test, y_test))\n",
        "acc_dt = np.round(rs.score(X_test,y_test),4)\n",
        "y_pred = rs.predict(X_test)"
      ]
    },
    {
      "cell_type": "code",
      "execution_count": null,
      "metadata": {
        "id": "WXOaH_JQy_eV",
        "outputId": "532cde5a-9d9e-4e78-f888-8a77d2306c76"
      },
      "outputs": [
        {
          "name": "stdout",
          "output_type": "stream",
          "text": [
            "              precision    recall  f1-score   support\n",
            "\n",
            "           1       0.64      0.68      0.66      2640\n",
            "           2       0.48      0.57      0.52      1771\n",
            "           3       0.00      0.00      0.00       674\n",
            "           4       0.23      0.04      0.07       293\n",
            "           5       0.46      0.62      0.53      1224\n",
            "\n",
            "    accuracy                           0.54      6602\n",
            "   macro avg       0.36      0.38      0.36      6602\n",
            "weighted avg       0.48      0.54      0.50      6602\n",
            "\n"
          ]
        }
      ],
      "source": [
        "# micro averages\n",
        "print(metrics.classification_report(y_test, y_pred))"
      ]
    },
    {
      "cell_type": "markdown",
      "metadata": {
        "id": "VOOEobDmFa76"
      },
      "source": [
        "#### IV. SVM"
      ]
    },
    {
      "cell_type": "code",
      "execution_count": null,
      "metadata": {
        "colab": {
          "base_uri": "https://localhost:8080/"
        },
        "id": "orZmYlW7Fa76",
        "outputId": "0a0549f1-1286-49b1-a94c-e53513315d33"
      },
      "outputs": [
        {
          "name": "stdout",
          "output_type": "stream",
          "text": [
            "{'C': 0.5455594781168515, 'degree': 1, 'kernel': 'rbf', 'max_iter': 200}\n",
            "In sample accuracy: 0.3837946728344401\n",
            "Out of sample accuracy: 0.3865495304453196\n"
          ]
        }
      ],
      "source": [
        "X_scaled = preprocessing.scale(x)\n",
        "\n",
        "param_grid ={'kernel':['rbf', 'poly'],\n",
        "            'C': 10**np.linspace(-5,10,20),\n",
        "             'degree': range(1,7),\n",
        "            'max_iter':[200]\n",
        "             }\n",
        "\n",
        "X_train, X_test, Y_train, Y_test = train_test_split(X_scaled, y.copy().to_frame(), test_size=0.33, random_state=111)\n",
        "clf = svm.SVC()\n",
        "gr = GridSearchCV(clf, param_grid=param_grid)\n",
        "rs = gr.fit(X_train, Y_train)\n",
        "\n",
        "# Report IS and OS results.\n",
        "y_pred = rs.predict(X_train)\n",
        "y_os_pred = rs.predict(X_test)\n",
        "print(rs.best_params_)\n",
        "print('In sample accuracy:',accuracy_score(Y_train,y_pred))\n",
        "print('Out of sample accuracy:',accuracy_score(Y_test,y_os_pred))\n",
        "acc_svm = np.round(rs.score(X_test,y_os_pred),4)\n",
        "y_pred = rs.predict(X_test)"
      ]
    },
    {
      "cell_type": "code",
      "execution_count": null,
      "metadata": {
        "id": "Q1R_oMB-y_eW",
        "outputId": "48a17f9c-92ef-416f-ce67-ea2e6e888149"
      },
      "outputs": [
        {
          "name": "stdout",
          "output_type": "stream",
          "text": [
            "              precision    recall  f1-score   support\n",
            "\n",
            "           1       0.45      0.62      0.52      2640\n",
            "           2       0.37      0.20      0.26      1771\n",
            "           3       0.11      0.00      0.01       674\n",
            "           4       0.67      0.01      0.01       293\n",
            "           5       0.29      0.46      0.35      1224\n",
            "\n",
            "    accuracy                           0.39      6602\n",
            "   macro avg       0.38      0.26      0.23      6602\n",
            "weighted avg       0.37      0.39      0.34      6602\n",
            "\n"
          ]
        }
      ],
      "source": [
        "# micro averages\n",
        "print(metrics.classification_report(y_test, y_pred))"
      ]
    },
    {
      "cell_type": "markdown",
      "metadata": {
        "id": "VW30nK01Fa76"
      },
      "source": [
        "#### V. Random Forest"
      ]
    },
    {
      "cell_type": "code",
      "execution_count": null,
      "metadata": {
        "colab": {
          "base_uri": "https://localhost:8080/"
        },
        "id": "HDAH40_rHzlv",
        "outputId": "a18a4d10-224b-4aa8-8f83-bd7780d57081"
      },
      "outputs": [
        {
          "name": "stdout",
          "output_type": "stream",
          "text": [
            "{'max_depth': 4, 'max_features': 13, 'n_estimators': 21}\n",
            "In sample accuracy: 0.5639036036708199\n",
            "Out of sample accuracy: 0.5474098757952136\n"
          ]
        }
      ],
      "source": [
        "X_train, X_test, y_train, y_test = train_test_split(x.copy(), y.copy(), test_size=0.33, random_state=111)\n",
        "\n",
        "param_grid = { \n",
        "    'n_estimators': np.arange(1,50,5),\n",
        "    'max_depth' : np.arange(1,10,1),\n",
        "    'max_features' : np.arange(1,14,1)\n",
        "}\n",
        "\n",
        "rf = RandomForestClassifier(n_jobs = -1, max_leaf_nodes = 10)\n",
        "gr = GridSearchCV(rf, param_grid = param_grid)\n",
        "rs = gr.fit(X_train, y_train)\n",
        "print(rs.best_params_)\n",
        "    \n",
        "# in sample accuracy\n",
        "print('In sample accuracy:', rs.score(X_train, y_train))\n",
        "\n",
        "# out of sample accuracy\n",
        "print('Out of sample accuracy:', rs.score(X_test, y_test))\n",
        "acc_rf = np.round(rs.score(X_test,y_test),4)\n",
        "y_pred = rs.predict(X_test)"
      ]
    },
    {
      "cell_type": "code",
      "execution_count": null,
      "metadata": {
        "id": "kbzGkr_oy_eW",
        "outputId": "9bcff1f7-e68e-4396-b890-c407658454c3"
      },
      "outputs": [
        {
          "name": "stdout",
          "output_type": "stream",
          "text": [
            "              precision    recall  f1-score   support\n",
            "\n",
            "           1       0.61      0.75      0.67      2640\n",
            "           2       0.49      0.56      0.52      1771\n",
            "           3       0.00      0.00      0.00       674\n",
            "           4       0.00      0.00      0.00       293\n",
            "           5       0.48      0.53      0.50      1224\n",
            "\n",
            "    accuracy                           0.55      6602\n",
            "   macro avg       0.32      0.37      0.34      6602\n",
            "weighted avg       0.46      0.55      0.50      6602\n",
            "\n"
          ]
        }
      ],
      "source": [
        "# micro averages\n",
        "print(metrics.classification_report(y_test, y_pred))"
      ]
    },
    {
      "cell_type": "markdown",
      "metadata": {
        "id": "iF-o6ptLFa76"
      },
      "source": [
        "### b. Added Spatial Variables"
      ]
    },
    {
      "cell_type": "code",
      "execution_count": null,
      "metadata": {
        "id": "1xg2jpMTy_eX",
        "outputId": "c74bdb31-5422-4554-e294-619116f6b040"
      },
      "outputs": [
        {
          "data": {
            "text/html": [
              "<div>\n",
              "<style scoped>\n",
              "    .dataframe tbody tr th:only-of-type {\n",
              "        vertical-align: middle;\n",
              "    }\n",
              "\n",
              "    .dataframe tbody tr th {\n",
              "        vertical-align: top;\n",
              "    }\n",
              "\n",
              "    .dataframe thead th {\n",
              "        text-align: right;\n",
              "    }\n",
              "</style>\n",
              "<table border=\"1\" class=\"dataframe\">\n",
              "  <thead>\n",
              "    <tr style=\"text-align: right;\">\n",
              "      <th></th>\n",
              "      <th>hh_group</th>\n",
              "      <th>departure_hour</th>\n",
              "      <th>distance</th>\n",
              "      <th>vehicle_count</th>\n",
              "      <th>hhsize</th>\n",
              "      <th>hh_income</th>\n",
              "      <th>age</th>\n",
              "      <th>job_count</th>\n",
              "      <th>ethnicity_american_alaska</th>\n",
              "      <th>ethnicity_asian</th>\n",
              "      <th>...</th>\n",
              "      <th>hassmartphone</th>\n",
              "      <th>isbornus</th>\n",
              "      <th>num_trips</th>\n",
              "      <th>comm_percent</th>\n",
              "      <th>mixed_percent</th>\n",
              "      <th>res_percent</th>\n",
              "      <th>bus</th>\n",
              "      <th>subway</th>\n",
              "      <th>citybike</th>\n",
              "      <th>norm_car_ev_count</th>\n",
              "    </tr>\n",
              "    <tr>\n",
              "      <th>personid</th>\n",
              "      <th></th>\n",
              "      <th></th>\n",
              "      <th></th>\n",
              "      <th></th>\n",
              "      <th></th>\n",
              "      <th></th>\n",
              "      <th></th>\n",
              "      <th></th>\n",
              "      <th></th>\n",
              "      <th></th>\n",
              "      <th></th>\n",
              "      <th></th>\n",
              "      <th></th>\n",
              "      <th></th>\n",
              "      <th></th>\n",
              "      <th></th>\n",
              "      <th></th>\n",
              "      <th></th>\n",
              "      <th></th>\n",
              "      <th></th>\n",
              "      <th></th>\n",
              "    </tr>\n",
              "  </thead>\n",
              "  <tbody>\n",
              "    <tr>\n",
              "      <th>2201</th>\n",
              "      <td>1</td>\n",
              "      <td>13.0</td>\n",
              "      <td>1.210038</td>\n",
              "      <td>0</td>\n",
              "      <td>3</td>\n",
              "      <td>300000.0</td>\n",
              "      <td>37.0</td>\n",
              "      <td>1</td>\n",
              "      <td>0</td>\n",
              "      <td>0</td>\n",
              "      <td>...</td>\n",
              "      <td>1</td>\n",
              "      <td>1</td>\n",
              "      <td>23</td>\n",
              "      <td>0.085527</td>\n",
              "      <td>0.041913</td>\n",
              "      <td>0.05536</td>\n",
              "      <td>181.0</td>\n",
              "      <td>12.0</td>\n",
              "      <td>13.0</td>\n",
              "      <td>0.544336</td>\n",
              "    </tr>\n",
              "    <tr>\n",
              "      <th>5302</th>\n",
              "      <td>0</td>\n",
              "      <td>12.0</td>\n",
              "      <td>0.310686</td>\n",
              "      <td>1</td>\n",
              "      <td>2</td>\n",
              "      <td>125000.0</td>\n",
              "      <td>32.0</td>\n",
              "      <td>0</td>\n",
              "      <td>0</td>\n",
              "      <td>0</td>\n",
              "      <td>...</td>\n",
              "      <td>1</td>\n",
              "      <td>1</td>\n",
              "      <td>2</td>\n",
              "      <td>0.085527</td>\n",
              "      <td>0.041913</td>\n",
              "      <td>0.05536</td>\n",
              "      <td>181.0</td>\n",
              "      <td>12.0</td>\n",
              "      <td>13.0</td>\n",
              "      <td>0.544336</td>\n",
              "    </tr>\n",
              "    <tr>\n",
              "      <th>8801</th>\n",
              "      <td>0</td>\n",
              "      <td>11.0</td>\n",
              "      <td>0.932056</td>\n",
              "      <td>0</td>\n",
              "      <td>3</td>\n",
              "      <td>38500.0</td>\n",
              "      <td>32.0</td>\n",
              "      <td>1</td>\n",
              "      <td>0</td>\n",
              "      <td>0</td>\n",
              "      <td>...</td>\n",
              "      <td>1</td>\n",
              "      <td>1</td>\n",
              "      <td>4</td>\n",
              "      <td>0.085527</td>\n",
              "      <td>0.041913</td>\n",
              "      <td>0.05536</td>\n",
              "      <td>181.0</td>\n",
              "      <td>12.0</td>\n",
              "      <td>13.0</td>\n",
              "      <td>0.544336</td>\n",
              "    </tr>\n",
              "    <tr>\n",
              "      <th>8802</th>\n",
              "      <td>0</td>\n",
              "      <td>11.0</td>\n",
              "      <td>0.932056</td>\n",
              "      <td>0</td>\n",
              "      <td>3</td>\n",
              "      <td>38500.0</td>\n",
              "      <td>10.0</td>\n",
              "      <td>0</td>\n",
              "      <td>0</td>\n",
              "      <td>0</td>\n",
              "      <td>...</td>\n",
              "      <td>0</td>\n",
              "      <td>0</td>\n",
              "      <td>4</td>\n",
              "      <td>0.085527</td>\n",
              "      <td>0.041913</td>\n",
              "      <td>0.05536</td>\n",
              "      <td>181.0</td>\n",
              "      <td>12.0</td>\n",
              "      <td>13.0</td>\n",
              "      <td>0.544336</td>\n",
              "    </tr>\n",
              "    <tr>\n",
              "      <th>8803</th>\n",
              "      <td>0</td>\n",
              "      <td>11.0</td>\n",
              "      <td>0.932056</td>\n",
              "      <td>0</td>\n",
              "      <td>3</td>\n",
              "      <td>38500.0</td>\n",
              "      <td>10.0</td>\n",
              "      <td>0</td>\n",
              "      <td>0</td>\n",
              "      <td>0</td>\n",
              "      <td>...</td>\n",
              "      <td>0</td>\n",
              "      <td>0</td>\n",
              "      <td>4</td>\n",
              "      <td>0.085527</td>\n",
              "      <td>0.041913</td>\n",
              "      <td>0.05536</td>\n",
              "      <td>181.0</td>\n",
              "      <td>12.0</td>\n",
              "      <td>13.0</td>\n",
              "      <td>0.544336</td>\n",
              "    </tr>\n",
              "  </tbody>\n",
              "</table>\n",
              "<p>5 rows × 28 columns</p>\n",
              "</div>"
            ],
            "text/plain": [
              "          hh_group  departure_hour  distance  vehicle_count  hhsize  \\\n",
              "personid                                                              \n",
              "2201             1            13.0  1.210038              0       3   \n",
              "5302             0            12.0  0.310686              1       2   \n",
              "8801             0            11.0  0.932056              0       3   \n",
              "8802             0            11.0  0.932056              0       3   \n",
              "8803             0            11.0  0.932056              0       3   \n",
              "\n",
              "          hh_income   age  job_count  ethnicity_american_alaska  \\\n",
              "personid                                                          \n",
              "2201       300000.0  37.0          1                          0   \n",
              "5302       125000.0  32.0          0                          0   \n",
              "8801        38500.0  32.0          1                          0   \n",
              "8802        38500.0  10.0          0                          0   \n",
              "8803        38500.0  10.0          0                          0   \n",
              "\n",
              "          ethnicity_asian  ...  hassmartphone  isbornus  num_trips  \\\n",
              "personid                   ...                                       \n",
              "2201                    0  ...              1         1         23   \n",
              "5302                    0  ...              1         1          2   \n",
              "8801                    0  ...              1         1          4   \n",
              "8802                    0  ...              0         0          4   \n",
              "8803                    0  ...              0         0          4   \n",
              "\n",
              "          comm_percent  mixed_percent  res_percent    bus  subway  citybike  \\\n",
              "personid                                                                      \n",
              "2201          0.085527       0.041913      0.05536  181.0    12.0      13.0   \n",
              "5302          0.085527       0.041913      0.05536  181.0    12.0      13.0   \n",
              "8801          0.085527       0.041913      0.05536  181.0    12.0      13.0   \n",
              "8802          0.085527       0.041913      0.05536  181.0    12.0      13.0   \n",
              "8803          0.085527       0.041913      0.05536  181.0    12.0      13.0   \n",
              "\n",
              "          norm_car_ev_count  \n",
              "personid                     \n",
              "2201               0.544336  \n",
              "5302               0.544336  \n",
              "8801               0.544336  \n",
              "8802               0.544336  \n",
              "8803               0.544336  \n",
              "\n",
              "[5 rows x 28 columns]"
            ]
          },
          "execution_count": 13,
          "metadata": {},
          "output_type": "execute_result"
        }
      ],
      "source": [
        "x_s = df_personid.drop(['preferred mode','home_bg','ZIPCODE'], axis=1)\n",
        "x_s = x_s.dropna()\n",
        "x_s.head()"
      ]
    },
    {
      "cell_type": "code",
      "execution_count": null,
      "metadata": {
        "id": "VJpAbte9y_eX"
      },
      "outputs": [],
      "source": [
        "x_s[\"norm_car_ev_count\"] = x_s[\"norm_car_ev_count\"].replace([np.inf, np.nan], [0.0,0.0])"
      ]
    },
    {
      "cell_type": "markdown",
      "metadata": {
        "id": "OboLYD0kFa76"
      },
      "source": [
        "#### I. Logistic Regression"
      ]
    },
    {
      "cell_type": "code",
      "execution_count": null,
      "metadata": {
        "id": "J1JEdywYy_eX",
        "outputId": "741f0f4c-f191-4247-ece9-4a21586adb54"
      },
      "outputs": [
        {
          "name": "stdout",
          "output_type": "stream",
          "text": [
            "Test score: 0.4365343835201454\n",
            "{'classifier__C': 1000}\n"
          ]
        }
      ],
      "source": [
        "X_train, X_test, y_train, y_test = train_test_split(x_s.copy(), y.copy().to_frame(), test_size=0.33,random_state=111)\n",
        "\n",
        "pipeline = Pipeline([('classifier', LogisticRegression(random_state=11,\n",
        "                                                                  max_iter=1000))])\n",
        "\n",
        "stratified_kfold = StratifiedKFold(n_splits=3,\n",
        "                                       shuffle=True,\n",
        "                                       random_state=11)\n",
        "\n",
        "param_grid = {'classifier__C':[0.001, 0.01, 0.1, 1, 10, 100, 1000]}\n",
        "grid_search = GridSearchCV(estimator=pipeline,\n",
        "                           param_grid=param_grid,\n",
        "                           scoring='accuracy',\n",
        "                           cv=stratified_kfold,\n",
        "                           n_jobs=-1)\n",
        "\n",
        "grid_search.fit(X_train, y_train)\n",
        "cv_score = grid_search.best_score_\n",
        "print(f'Test score: {grid_search.score(X_test, y_test)}')\n",
        "acc_lr = np.round(grid_search.score(X_test, y_test),4)\n",
        "print(grid_search.best_params_)\n",
        "y_pred = grid_search.predict(X_test)"
      ]
    },
    {
      "cell_type": "code",
      "execution_count": null,
      "metadata": {
        "id": "h3nrw7c4y_eY",
        "outputId": "6037e597-0b33-4646-e53d-cb48b68863c4"
      },
      "outputs": [
        {
          "name": "stdout",
          "output_type": "stream",
          "text": [
            "              precision    recall  f1-score   support\n",
            "\n",
            "           1       0.46      0.85      0.60      2640\n",
            "           2       0.36      0.24      0.29      1771\n",
            "           3       0.00      0.00      0.00       674\n",
            "           4       1.00      0.00      0.01       293\n",
            "           5       0.38      0.17      0.23      1224\n",
            "\n",
            "    accuracy                           0.44      6602\n",
            "   macro avg       0.44      0.25      0.22      6602\n",
            "weighted avg       0.40      0.44      0.36      6602\n",
            "\n"
          ]
        }
      ],
      "source": [
        "# micro averages\n",
        "print(metrics.classification_report(y_test, y_pred))"
      ]
    },
    {
      "cell_type": "markdown",
      "metadata": {
        "id": "1OFWAr2jFa76"
      },
      "source": [
        "#### II. Naive Bayes"
      ]
    },
    {
      "cell_type": "code",
      "execution_count": null,
      "metadata": {
        "colab": {
          "base_uri": "https://localhost:8080/"
        },
        "id": "zmwITmbiFa77",
        "outputId": "3f784884-799e-4aba-b609-9c3cdb812acc"
      },
      "outputs": [
        {
          "name": "stdout",
          "output_type": "stream",
          "text": [
            "In sample prediction accuracy: 0.3815563679773185\n",
            "Out of sample prediction accuracy: 0.38336867615873976\n"
          ]
        }
      ],
      "source": [
        "X_train, X_test, y_train, y_test = train_test_split(x_s.copy(), y.copy().to_frame(), test_size=0.33,random_state=111)\n",
        "gnb = GaussianNB().fit(X_train, y_train)\n",
        "print(f'In sample prediction accuracy: {gnb.score(X_train,y_train)}')\n",
        "print(f'Out of sample prediction accuracy: {gnb.score(X_test,y_test)}')\n",
        "acc_nb_spatial = np.round(gnb.score(X_test,y_test),4)\n",
        "y_pred = gnb.predict(X_test)"
      ]
    },
    {
      "cell_type": "code",
      "execution_count": null,
      "metadata": {
        "id": "RdkA5bPEy_eY",
        "outputId": "7cf7f25d-3fe1-4d98-ea9c-7986ed8ff797"
      },
      "outputs": [
        {
          "name": "stdout",
          "output_type": "stream",
          "text": [
            "              precision    recall  f1-score   support\n",
            "\n",
            "           1       0.58      0.30      0.39      2640\n",
            "           2       0.32      0.81      0.46      1771\n",
            "           3       0.26      0.01      0.02       674\n",
            "           4       0.40      0.06      0.11       293\n",
            "           5       0.44      0.23      0.30      1224\n",
            "\n",
            "    accuracy                           0.38      6602\n",
            "   macro avg       0.40      0.28      0.26      6602\n",
            "weighted avg       0.44      0.38      0.34      6602\n",
            "\n"
          ]
        }
      ],
      "source": [
        "# micro averages\n",
        "print(metrics.classification_report(y_test, y_pred))"
      ]
    },
    {
      "cell_type": "markdown",
      "metadata": {
        "id": "1IHMcGRHFa77"
      },
      "source": [
        "#### III. Decision Tree"
      ]
    },
    {
      "cell_type": "code",
      "execution_count": null,
      "metadata": {
        "colab": {
          "base_uri": "https://localhost:8080/"
        },
        "id": "rlTcg6ugVpJ-",
        "outputId": "a1fa6450-4cc6-4e29-ec5c-8dcdc6fef062"
      },
      "outputs": [
        {
          "name": "stdout",
          "output_type": "stream",
          "text": [
            "{'max_depth': 12, 'max_leaf_nodes': 18, 'min_samples_split': 2}\n",
            "In sample accuracy: 0.5601730955756175\n",
            "Out of sample accuracy: 0.5387761284459255\n"
          ]
        }
      ],
      "source": [
        "X_train, X_test, y_train, y_test = train_test_split(x_s.copy(), y.copy().to_frame(), test_size=0.33,random_state=111)\n",
        "param_grid = {'max_depth': range(2, 100, 10),\n",
        "              'min_samples_split':  range(2, 10, 1),\n",
        "              'max_leaf_nodes': range(2, 20, 2)\n",
        "              }\n",
        "\n",
        "dt = DecisionTreeClassifier()\n",
        "gr = GridSearchCV(dt, param_grid = param_grid)\n",
        "rs = gr.fit(X_train, y_train)\n",
        "print(rs.best_params_)\n",
        "\n",
        "# in sample accuracy\n",
        "print('In sample accuracy:', rs.score(X_train, y_train))\n",
        "\n",
        "# out of sample accuracy\n",
        "print('Out of sample accuracy:', rs.score(X_test, y_test))\n",
        "acc_dt_spatial = np.round(rs.score(X_test,y_test),4)\n",
        "y_pred = rs.predict(X_test)"
      ]
    },
    {
      "cell_type": "code",
      "execution_count": null,
      "metadata": {
        "id": "0yzMY9tVy_eZ",
        "outputId": "d6047939-742b-4b09-8e21-c5437480bd30"
      },
      "outputs": [
        {
          "name": "stdout",
          "output_type": "stream",
          "text": [
            "              precision    recall  f1-score   support\n",
            "\n",
            "           1       0.63      0.68      0.65      2640\n",
            "           2       0.50      0.55      0.52      1771\n",
            "           3       0.00      0.00      0.00       674\n",
            "           4       0.23      0.04      0.07       293\n",
            "           5       0.45      0.64      0.53      1224\n",
            "\n",
            "    accuracy                           0.54      6602\n",
            "   macro avg       0.36      0.38      0.35      6602\n",
            "weighted avg       0.48      0.54      0.50      6602\n",
            "\n"
          ]
        }
      ],
      "source": [
        "# micro averages\n",
        "print(metrics.classification_report(y_test, y_pred))"
      ]
    },
    {
      "cell_type": "markdown",
      "metadata": {
        "id": "jwqpdPqYFa77"
      },
      "source": [
        "#### IV. SVM"
      ]
    },
    {
      "cell_type": "code",
      "execution_count": null,
      "metadata": {
        "colab": {
          "base_uri": "https://localhost:8080/"
        },
        "id": "iPwAeULfWt-t",
        "outputId": "10d3fa74-1b01-4a09-ecce-02561d2896af"
      },
      "outputs": [
        {
          "name": "stdout",
          "output_type": "stream",
          "text": [
            "{'C': 0.5455594781168515, 'degree': 1, 'kernel': 'rbf', 'max_iter': 200}\n",
            "In sample accuracy: 0.41550399164366186\n",
            "Out of sample accuracy: 0.3959406240533172\n"
          ]
        }
      ],
      "source": [
        "x_s_scaled = preprocessing.scale(x_s)\n",
        "X_train, X_test, y_train, y_test = train_test_split(x_s_scaled.copy(), y.copy().to_frame(), test_size=0.33,random_state=111)\n",
        "\n",
        "param_grid ={'kernel':['rbf', 'poly'],\n",
        "            'C': 10**np.linspace(-5,10,20),\n",
        "             'degree': range(1,7),\n",
        "            'max_iter':[200]\n",
        "             }\n",
        "\n",
        "clf = svm.SVC()\n",
        "gr = GridSearchCV(clf, param_grid=param_grid)\n",
        "rs = gr.fit(X_train, y_train)\n",
        "\n",
        "# Report IS and OS results.\n",
        "y_pred = rs.predict(X_train)\n",
        "y_os_pred = rs.predict(X_test)\n",
        "print(rs.best_params_)\n",
        "print('In sample accuracy:',accuracy_score(y_train,y_pred))\n",
        "print('Out of sample accuracy:',accuracy_score(y_test,y_os_pred))\n",
        "acc_svm_spatial = np.round(rs.score(X_test,y_os_pred),4)\n",
        "y_pred = rs.predict(X_test)"
      ]
    },
    {
      "cell_type": "code",
      "execution_count": null,
      "metadata": {
        "id": "MLAa1poQy_ea",
        "outputId": "eea616a8-b813-4d38-ddcf-fac4733e01ff"
      },
      "outputs": [
        {
          "name": "stdout",
          "output_type": "stream",
          "text": [
            "              precision    recall  f1-score   support\n",
            "\n",
            "           1       0.46      0.65      0.54      2640\n",
            "           2       0.35      0.20      0.25      1771\n",
            "           3       0.18      0.09      0.12       674\n",
            "           4       0.12      0.03      0.04       293\n",
            "           5       0.33      0.39      0.36      1224\n",
            "\n",
            "    accuracy                           0.40      6602\n",
            "   macro avg       0.29      0.27      0.26      6602\n",
            "weighted avg       0.36      0.40      0.36      6602\n",
            "\n"
          ]
        }
      ],
      "source": [
        "# micro averages\n",
        "print(metrics.classification_report(y_test, y_pred))"
      ]
    },
    {
      "cell_type": "markdown",
      "metadata": {
        "id": "t612lS2XFa77"
      },
      "source": [
        "#### V. Random Forest"
      ]
    },
    {
      "cell_type": "code",
      "execution_count": null,
      "metadata": {
        "id": "k81-BEeNFa77",
        "outputId": "5b4cdf34-36c8-45b1-9b21-dc5a88615d75"
      },
      "outputs": [
        {
          "name": "stdout",
          "output_type": "stream",
          "text": [
            "{'max_depth': 5, 'max_features': 10, 'n_estimators': 41}\n",
            "In sample accuracy: 0.565395806908901\n",
            "Out of sample accuracy: 0.5492275068161163\n"
          ]
        }
      ],
      "source": [
        "X_train, X_test, y_train, y_test = train_test_split(x_s.copy(), y.copy().to_frame(), test_size=0.33,random_state=111)\n",
        "param_grid = { \n",
        "    'n_estimators': np.arange(1,50,5),\n",
        "    'max_depth' : np.arange(1,10,1),\n",
        "    'max_features' : np.arange(1,14,1)\n",
        "}\n",
        "\n",
        "rf = RandomForestClassifier(n_jobs = -1, max_leaf_nodes = 10)\n",
        "gr = GridSearchCV(rf, param_grid = param_grid)\n",
        "rs = gr.fit(X_train, y_train)\n",
        "print(rs.best_params_)\n",
        "    \n",
        "# in sample accuracy\n",
        "print('In sample accuracy:', rs.score(X_train, y_train))\n",
        "\n",
        "# out of sample accuracy\n",
        "print('Out of sample accuracy:', rs.score(X_test, y_test))\n",
        "acc_rf_spatial = np.round(rs.score(X_test,y_test),4)\n",
        "y_pred = rs.predict(X_test)"
      ]
    },
    {
      "cell_type": "code",
      "execution_count": null,
      "metadata": {
        "id": "P6NfQWbky_ea",
        "outputId": "81de0844-dfe6-4885-9d64-0878e4a98c48"
      },
      "outputs": [
        {
          "name": "stdout",
          "output_type": "stream",
          "text": [
            "              precision    recall  f1-score   support\n",
            "\n",
            "           1       0.61      0.74      0.67      2640\n",
            "           2       0.49      0.62      0.55      1771\n",
            "           3       0.00      0.00      0.00       674\n",
            "           4       0.00      0.00      0.00       293\n",
            "           5       0.50      0.47      0.48      1224\n",
            "\n",
            "    accuracy                           0.55      6602\n",
            "   macro avg       0.32      0.37      0.34      6602\n",
            "weighted avg       0.47      0.55      0.50      6602\n",
            "\n"
          ]
        }
      ],
      "source": [
        "# micro averages (for the best model)\n",
        "print(metrics.classification_report(y_test, y_pred))"
      ]
    },
    {
      "cell_type": "markdown",
      "metadata": {
        "id": "5ajk2yAlMMWj"
      },
      "source": [
        "### c. Handling Imbalanced Dataset"
      ]
    },
    {
      "cell_type": "code",
      "execution_count": null,
      "metadata": {
        "id": "RH5qR5eDy_eb",
        "outputId": "b3fb0f65-e595-43ae-da06-8d5cae42d178"
      },
      "outputs": [
        {
          "name": "stdout",
          "output_type": "stream",
          "text": [
            "{'classifier__max_depth': 3, 'classifier__max_features': 3, 'classifier__n_estimators': 31}\n",
            "In sample accuracy: 0.48906961128105647\n",
            "Out of sample accuracy: 0.46758558012723417\n"
          ]
        }
      ],
      "source": [
        "X_train, X_test, y_train, y_test = train_test_split(x_s.copy(), y.copy().to_frame(), test_size=0.33,random_state=111)\n",
        "pipeline = imbpipeline(steps = [['smote', SMOTE(random_state=11)],\n",
        "                                ['classifier', RandomForestClassifier(n_jobs = -1, max_leaf_nodes = 10)]])\n",
        "\n",
        "\n",
        "stratified_kfold = StratifiedKFold(n_splits=3,\n",
        "                                       shuffle=True,\n",
        "                                       random_state=11)\n",
        "\n",
        "param_grid = { \n",
        "    'classifier__n_estimators': np.arange(1,50,5),\n",
        "    'classifier__max_depth' : np.arange(1,10,1),\n",
        "    'classifier__max_features' : np.arange(1,14,1)\n",
        "}\n",
        "\n",
        "rs = GridSearchCV(estimator=pipeline,\n",
        "                           param_grid=param_grid,\n",
        "                           scoring='accuracy',\n",
        "                           cv=stratified_kfold,\n",
        "                           n_jobs=-1)\n",
        "\n",
        "rs.fit(X_train, y_train)\n",
        "print(rs.best_params_)\n",
        "# in sample accuracy\n",
        "print('In sample accuracy:', rs.score(X_train, y_train))\n",
        "# out of sample accuracy\n",
        "print('Out of sample accuracy:', rs.score(X_test, y_test))\n",
        "acc_rf_spatial_smote = np.round(rs.score(X_test,y_test),4)\n",
        "y_pred = rs.predict(X_test)"
      ]
    },
    {
      "cell_type": "code",
      "execution_count": null,
      "metadata": {
        "id": "yU1hXvWSMMWj",
        "outputId": "e7de049c-6d4c-4cec-cbd5-26678c6d7c67"
      },
      "outputs": [
        {
          "name": "stdout",
          "output_type": "stream",
          "text": [
            "              precision    recall  f1-score   support\n",
            "\n",
            "           1       0.65      0.55      0.60      2640\n",
            "           2       0.53      0.26      0.35      1771\n",
            "           3       0.22      0.19      0.20       674\n",
            "           4       0.12      0.19      0.15       293\n",
            "           5       0.41      0.81      0.54      1224\n",
            "\n",
            "    accuracy                           0.47      6602\n",
            "   macro avg       0.39      0.40      0.37      6602\n",
            "weighted avg       0.51      0.47      0.46      6602\n",
            "\n"
          ]
        }
      ],
      "source": [
        "# Now metrics are more balanced between different sized classes but overall performance has dropped\n",
        "print(metrics.classification_report(y_test,y_pred))"
      ]
    },
    {
      "cell_type": "markdown",
      "metadata": {
        "id": "0vNuud0PFa78"
      },
      "source": [
        "## 5. Results Overview"
      ]
    },
    {
      "cell_type": "code",
      "execution_count": null,
      "metadata": {
        "colab": {
          "base_uri": "https://localhost:8080/",
          "height": 112
        },
        "id": "QN51Ln6cFa78",
        "outputId": "e161e213-e537-489d-cf6e-4ef21e789292"
      },
      "outputs": [
        {
          "data": {
            "text/html": [
              "<div>\n",
              "<style scoped>\n",
              "    .dataframe tbody tr th:only-of-type {\n",
              "        vertical-align: middle;\n",
              "    }\n",
              "\n",
              "    .dataframe tbody tr th {\n",
              "        vertical-align: top;\n",
              "    }\n",
              "\n",
              "    .dataframe thead th {\n",
              "        text-align: right;\n",
              "    }\n",
              "</style>\n",
              "<table border=\"1\" class=\"dataframe\">\n",
              "  <thead>\n",
              "    <tr style=\"text-align: right;\">\n",
              "      <th></th>\n",
              "      <th>With Spatial Variable</th>\n",
              "      <th>Logistic Regression</th>\n",
              "      <th>Naive Bayes</th>\n",
              "      <th>SVM</th>\n",
              "      <th>Decision Tree</th>\n",
              "      <th>Random Forest</th>\n",
              "    </tr>\n",
              "  </thead>\n",
              "  <tbody>\n",
              "    <tr>\n",
              "      <th>0</th>\n",
              "      <td>No</td>\n",
              "      <td>0.4067</td>\n",
              "      <td>0.3437</td>\n",
              "      <td>0.3865</td>\n",
              "      <td>0.5409</td>\n",
              "      <td>0.5474</td>\n",
              "    </tr>\n",
              "    <tr>\n",
              "      <th>1</th>\n",
              "      <td>Yes</td>\n",
              "      <td>0.4365</td>\n",
              "      <td>0.3834</td>\n",
              "      <td>0.3960</td>\n",
              "      <td>0.5388</td>\n",
              "      <td>0.5492</td>\n",
              "    </tr>\n",
              "  </tbody>\n",
              "</table>\n",
              "</div>"
            ],
            "text/plain": [
              "  With Spatial Variable  Logistic Regression  Naive Bayes     SVM  \\\n",
              "0                    No               0.4067       0.3437  0.3865   \n",
              "1                   Yes               0.4365       0.3834  0.3960   \n",
              "\n",
              "   Decision Tree  Random Forest  \n",
              "0         0.5409         0.5474  \n",
              "1         0.5388         0.5492  "
            ]
          },
          "execution_count": 108,
          "metadata": {},
          "output_type": "execute_result"
        }
      ],
      "source": [
        "# Results before using SMOTE\n",
        "d = {'With Spatial Variable': ['No', 'Yes'], 'Logistic Regression': [acc_lr, acc_lr_spatial], 'Naive Bayes': [acc_nb,acc_nb_spatial], 'SVM':[acc_svm,acc_svm_spatial],'Decision Tree':[acc_dt,acc_dt_spatial],'Random Forest':[acc_rf,acc_rf_spatial]}\n",
        "df = pd.DataFrame(data=d)\n",
        "df"
      ]
    },
    {
      "cell_type": "code",
      "execution_count": null,
      "metadata": {
        "id": "XuaO8fj9MMWk",
        "outputId": "f537f43c-d166-46c9-ec34-e0b7a3642e1a"
      },
      "outputs": [
        {
          "name": "stdout",
          "output_type": "stream",
          "text": [
            "The best model was the Decision Tree with max_depth = 8 without spatial variables which had an accuracy of 0.5492. By using SMOTE to balance labels we reach an accuracy of 0.4676, with a variation in accuracy of -17.4508% with respect to the original model\n"
          ]
        }
      ],
      "source": [
        "change = (acc_rf_spatial_smote - acc_rf_spatial)/acc_rf_spatial_smote*100\n",
        "change = float(\"{:.4f}\".format(change))\n",
        "print(\"The best model was the Random Forest with spatial variables which had an accuracy of {}. By using SMOTE to balance labels we reach an accuracy of {}, with a variation in accuracy of {}% with respect to the original model\".format(acc_rf_spatial,acc_rf_spatial_smote,change))"
      ]
    }
  ],
  "metadata": {
    "colab": {
      "collapsed_sections": [
        "Z-_Xx80tFa7d",
        "QPxvd_LCFa7f",
        "1Lv97zLeFa7p",
        "fE8EuI7JFa7q",
        "4mwNYD8dFa7q",
        "_BynS_K1Fa7t",
        "4sJT8iUDFa7y",
        "o6wBtGzyFa7z",
        "7bFSACRhFa70",
        "Tj0otQLWFa70",
        "swqLq1G-Fa72",
        "VOOEobDmFa76",
        "VW30nK01Fa76",
        "iF-o6ptLFa76",
        "OboLYD0kFa76",
        "1OFWAr2jFa76",
        "1IHMcGRHFa77",
        "jwqpdPqYFa77",
        "t612lS2XFa77"
      ],
      "name": "ML4C_project_Predicting_travel_mode_choice_FINAL.ipynb",
      "provenance": []
    },
    "kernelspec": {
      "display_name": "Python 3",
      "language": "python",
      "name": "python3"
    },
    "language_info": {
      "codemirror_mode": {
        "name": "ipython",
        "version": 3
      },
      "file_extension": ".py",
      "mimetype": "text/x-python",
      "name": "python",
      "nbconvert_exporter": "python",
      "pygments_lexer": "ipython3",
      "version": "3.8.2"
    }
  },
  "nbformat": 4,
  "nbformat_minor": 0
}